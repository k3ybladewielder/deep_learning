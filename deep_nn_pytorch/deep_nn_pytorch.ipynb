{
  "cells": [
    {
      "cell_type": "markdown",
      "id": "4e959aab",
      "metadata": {
        "id": "4e959aab"
      },
      "source": [
        "# Deep Neural Network com Pytorch\n",
        "\n"
      ]
    },
    {
      "cell_type": "markdown",
      "source": [
        "## Semana 1\n",
        "Tensores 1D, Tensores Bidimensionais, Derivativos no Pytorch, Conjunto de Dados Simples, Conjunto de Dados\n",
        "\n",
        "## Semana 2\n",
        "Regressão Linear em 1D, Treinamento de Regressão Linear, Gradiente Descendente e Custo, Pytorch Slope, Gradiente Descendente Estocástico, Dataloader, Mini-Batch Gradient Descent, Treinamento, Validação e Divisão de Dados\n",
        "\n",
        "## Semana 3\n",
        "Regressão Linear Múltipla, Regressão Linear de Múltiplas Saídas, Regressão Logística para Classificação\n",
        "\n",
        "## Semana 4\n",
        "Previsão Softmax, Função Softmax, Softmax Pytorch, Redes Neurais Rasas\n",
        "\n",
        "## Semana 5\n",
        "Redes Neurais Profundas, Desistência, Pesos e Inicialização da Rede Neural, Gradient Descent com Momentum, Normalização em Lote\n",
        "\n",
        "## Semana 6\n",
        "Convolução, Funções de Ativação e Max Polling, Vários Canais de Entrada e Saída, Rede Neural Convolucional, Modelos de Visão de Lanterna"
      ],
      "metadata": {
        "id": "0ekD9EwwhUNp"
      },
      "id": "0ekD9EwwhUNp"
    },
    {
      "cell_type": "markdown",
      "id": "d5b75b48",
      "metadata": {
        "id": "d5b75b48"
      },
      "source": [
        "## Semana 1"
      ]
    },
    {
      "cell_type": "markdown",
      "id": "3896b479",
      "metadata": {
        "id": "3896b479"
      },
      "source": [
        "### Tensores 1D"
      ]
    },
    {
      "cell_type": "markdown",
      "source": [
        "Em PyTorch, tensores são estruturas fundamentais que representam dados multi-dimensionais, semelhantes a arrays ou matrizes em outras linguagens. Eles são a base para a construção e manipulação de modelos de aprendizado de máquina e redes neurais profundas. Aqui estão alguns pontos importantes sobre tensores em PyTorch:\n",
        "\n",
        "1. **Similaridade com NumPy:** PyTorch tensores são semelhantes aos arrays do NumPy e, muitas vezes, podem ser convertidos de um para o outro. Isso facilita a integração com bibliotecas científicas em Python.\n",
        "\n",
        "2. **Suporte a GPU:** PyTorch permite a computação em GPUs para acelerar operações. Os tensores podem ser movidos para uma GPU para aproveitar o poder de processamento paralelo.\n",
        "\n",
        "3. **Operações Matemáticas:** PyTorch fornece uma ampla variedade de operações matemáticas que podem ser aplicadas a tensores. Isso inclui operações aritméticas, funções trigonométricas, álgebra linear, entre outras.\n",
        "\n",
        "4. **Autograd:** Uma característica fundamental é o sistema de autograd, que automaticamente calcula gradientes para tensores. Isso é crucial para a otimização de modelos de aprendizado de máquina.\n",
        "\n",
        "5. **Criação de Tensores:** Você pode criar tensores de várias maneiras, seja inicializando-os com valores específicos, gerando números aleatórios, ou a partir de dados existentes.\n",
        "\n",
        "Exemplo de criação de um tensor em PyTorch:\n",
        "\n",
        "```python\n",
        "import torch\n",
        "\n",
        "# Criando um tensor com valores específicos\n",
        "tensor_exemplo = torch.tensor([[1, 2, 3], [4, 5, 6]])\n",
        "\n",
        "print(tensor_exemplo)\n",
        "```\n",
        "\n",
        "Este é um conceito básico, e há muito mais para explorar ao trabalhar com tensores em PyTorch, especialmente ao construir e treinar redes neurais profundas. Se tiver mais perguntas ou se quiser abordar aspectos específicos, sinta-se à vontade para perguntar!"
      ],
      "metadata": {
        "id": "tOBB2-AOYAXP"
      },
      "id": "tOBB2-AOYAXP"
    },
    {
      "cell_type": "markdown",
      "source": [
        "Tensores 1D em PyTorch são estruturas de dados unidimensionais que podem armazenar uma sequência de elementos. Esses tensores são semelhantes a vetores ou listas unidimensionais em outras linguagens de programação. Eles são úteis para representar dados ao longo de uma única dimensão, como séries temporais, uma linha de pixels de uma imagem ou um conjunto de valores.\n",
        "\n",
        "Aqui está um exemplo de como criar e trabalhar com um tensor 1D em PyTorch:\n",
        "\n",
        "```python\n",
        "import torch\n",
        "\n",
        "# Criando um tensor 1D\n",
        "tensor_1d = torch.tensor([1, 2, 3, 4, 5])\n",
        "\n",
        "# Acessando elementos do tensor\n",
        "print(tensor_1d[0])  # Saída: 1\n",
        "print(tensor_1d[2])  # Saída: 3\n",
        "\n",
        "# Operações matemáticas em tensores 1D\n",
        "tensor_resultado = tensor_1d * 2\n",
        "print(tensor_resultado)  # Saída: tensor([2, 4, 6, 8, 10])\n",
        "```\n",
        "\n",
        "Neste exemplo, `tensor_1d` é um tensor 1D contendo os valores de 1 a 5. Você pode acessar elementos individualmente e realizar operações matemáticas diretamente nos tensores.\n",
        "\n",
        "Os tensores 1D são frequentemente usados em problemas onde os dados estão organizados de forma linear, e são a base para a construção de estruturas de dados mais complexas, como matrizes bidimensionais (tensores 2D) e tensores de ordens superiores."
      ],
      "metadata": {
        "id": "nNz_UKZWZnXW"
      },
      "id": "nNz_UKZWZnXW"
    },
    {
      "cell_type": "markdown",
      "id": "1099db48",
      "metadata": {
        "id": "1099db48"
      },
      "source": [
        "### Tensores Bidimensionais"
      ]
    },
    {
      "cell_type": "markdown",
      "source": [
        "Tensores bidimensionais em PyTorch são estruturas de dados que representam matrizes, ou seja, arranjos retangulares de elementos organizados em duas dimensões. Eles são comumente utilizados para representar dados tabulares, imagens, ou qualquer outra informação que possa ser organizada em linhas e colunas.\n",
        "\n",
        "Aqui está um exemplo básico de criação e manipulação de um tensor bidimensional em PyTorch:\n",
        "\n",
        "```python\n",
        "import torch\n",
        "\n",
        "# Criando um tensor bidimensional (matriz)\n",
        "tensor_2d = torch.tensor([[1, 2, 3], [4, 5, 6], [7, 8, 9]])\n",
        "\n",
        "# Acessando elementos do tensor bidimensional\n",
        "print(tensor_2d[0, 1])  # Saída: 2 (linha 0, coluna 1)\n",
        "\n",
        "# Operações matemáticas em tensores bidimensionais\n",
        "tensor_resultado = tensor_2d * 2\n",
        "print(tensor_resultado)\n",
        "# Saída:\n",
        "# tensor([[ 2,  4,  6],\n",
        "#         [ 8, 10, 12],\n",
        "#         [14, 16, 18]])\n",
        "```\n",
        "\n",
        "Neste exemplo, `tensor_2d` é uma matriz 3x3 com elementos de 1 a 9. Você pode acessar elementos individualmente usando índices de linha e coluna, e realizar operações matemáticas diretamente nos tensores bidimensionais.\n",
        "\n",
        "Tensores bidimensionais são frequentemente usados em tarefas de processamento de imagens, onde cada elemento da matriz pode representar um pixel. Eles também são essenciais para a construção e treinamento de modelos de aprendizado de máquina, especialmente redes neurais profundas, onde as entradas muitas vezes são representadas por tensores bidimensionais."
      ],
      "metadata": {
        "id": "e70I0U5jlGLT"
      },
      "id": "e70I0U5jlGLT"
    },
    {
      "cell_type": "code",
      "source": [
        "## Esses são apenas alguns exemplos.\n",
        "# Criando dois tensores bidimensionais\n",
        "import torch\n",
        "tensor_a = torch.tensor([[1, 2, 3], [4, 5, 6]])\n",
        "tensor_b = torch.tensor([[7, 8, 9], [10, 11, 12]])\n",
        "\n",
        "# Soma de tensores\n",
        "soma = tensor_a + tensor_b\n",
        "print(\"Soma:\")\n",
        "print(soma)\n",
        "\n",
        "# Subtração de tensores\n",
        "subtracao = tensor_a - tensor_b\n",
        "print(\"\\nSubtração:\")\n",
        "print(subtracao)\n",
        "\n",
        "# Multiplicação de tensores (element-wise)\n",
        "multiplicacao_elementwise = tensor_a * tensor_b\n",
        "print(\"\\nMultiplicação (element-wise):\")\n",
        "print(multiplicacao_elementwise)\n",
        "\n",
        "# Multiplicação de tensores (produto matricial)\n",
        "produto_matricial = torch.matmul(tensor_a, tensor_b.T)  # Transpondo tensor_b para alinhar dimensões*\n",
        "print(\"\\nProduto Matricial:\")\n",
        "print(produto_matricial)\n",
        "\n",
        "# Operações de redução (somando elementos ao longo das colunas)\n",
        "soma_colunas = torch.sum(tensor_a, dim=0)\n",
        "print(\"\\nSoma das Colunas:\")\n",
        "print(soma_colunas)\n",
        "\n",
        "# Operações de broadcast (somando uma constante a cada elemento)\n",
        "tensor_soma_constante = tensor_a + 10\n",
        "print(\"\\nSoma com Constante:\")\n",
        "print(tensor_soma_constante)"
      ],
      "metadata": {
        "colab": {
          "base_uri": "https://localhost:8080/"
        },
        "id": "lyEWNWAamvnZ",
        "outputId": "1459f751-0a23-407f-839a-41e7e4596d1f"
      },
      "id": "lyEWNWAamvnZ",
      "execution_count": 3,
      "outputs": [
        {
          "output_type": "stream",
          "name": "stdout",
          "text": [
            "Soma:\n",
            "tensor([[ 8, 10, 12],\n",
            "        [14, 16, 18]])\n",
            "\n",
            "Subtração:\n",
            "tensor([[-6, -6, -6],\n",
            "        [-6, -6, -6]])\n",
            "\n",
            "Multiplicação (element-wise):\n",
            "tensor([[ 7, 16, 27],\n",
            "        [40, 55, 72]])\n",
            "\n",
            "Produto Matricial:\n",
            "tensor([[ 50,  68],\n",
            "        [122, 167]])\n",
            "\n",
            "Soma das Colunas:\n",
            "tensor([5, 7, 9])\n",
            "\n",
            "Soma com Constante:\n",
            "tensor([[11, 12, 13],\n",
            "        [14, 15, 16]])\n"
          ]
        }
      ]
    },
    {
      "cell_type": "markdown",
      "source": [
        "Os tensores tridimensionais (tensores 3D) são utilizados para representar dados que possuem uma organização tridimensional, como volumes de imagens ou séries temporais multivariadas. Vamos criar alguns exemplos de tensores 3D em PyTorch:"
      ],
      "metadata": {
        "id": "FaxXbiy9rwWK"
      },
      "id": "FaxXbiy9rwWK"
    },
    {
      "cell_type": "code",
      "source": [
        "# Criando um tensor 3D (volume)\n",
        "tensor_3d = torch.tensor([[[1, 2, 3],[4, 5, 6]],\n",
        "                          [[7, 8, 9], [10, 11, 12]],\n",
        "                          [[13, 14, 15], [16, 17, 18]]])\n",
        "\n",
        "# Acessando elementos do tensor 3D\n",
        "print(\"Acessando um elemento:\")\n",
        "print(tensor_3d[1, 0, 2])  # Saída: 9 (depth 1, linha 0, coluna 2)\n",
        "\n",
        "# Operações matemáticas em tensores 3D\n",
        "tensor_resultado = tensor_3d * 2\n",
        "print(\"\\nMultiplicação por 2:\")\n",
        "print(tensor_resultado)\n",
        "\n",
        "# Operações de redução (somando elementos ao longo das dimensões)\n",
        "soma_dim1 = torch.sum(tensor_3d, dim=1)\n",
        "print(\"\\nSoma ao Longo da Dimensão 1:\")\n",
        "print(soma_dim1)\n",
        "\n",
        "# Operações de broadcast (somando uma constante a cada elemento)\n",
        "tensor_soma_constante = tensor_3d + 10\n",
        "print(\"\\nSoma com Constante:\")\n",
        "print(tensor_soma_constante)"
      ],
      "metadata": {
        "colab": {
          "base_uri": "https://localhost:8080/"
        },
        "id": "qKjIklfLnmdS",
        "outputId": "73e44bb5-6ff5-402f-fc43-9dbf30518b70"
      },
      "id": "qKjIklfLnmdS",
      "execution_count": 4,
      "outputs": [
        {
          "output_type": "stream",
          "name": "stdout",
          "text": [
            "Acessando um elemento:\n",
            "tensor(9)\n",
            "\n",
            "Multiplicação por 2:\n",
            "tensor([[[ 2,  4,  6],\n",
            "         [ 8, 10, 12]],\n",
            "\n",
            "        [[14, 16, 18],\n",
            "         [20, 22, 24]],\n",
            "\n",
            "        [[26, 28, 30],\n",
            "         [32, 34, 36]]])\n",
            "\n",
            "Soma ao Longo da Dimensão 1:\n",
            "tensor([[ 5,  7,  9],\n",
            "        [17, 19, 21],\n",
            "        [29, 31, 33]])\n",
            "\n",
            "Soma com Constante:\n",
            "tensor([[[11, 12, 13],\n",
            "         [14, 15, 16]],\n",
            "\n",
            "        [[17, 18, 19],\n",
            "         [20, 21, 22]],\n",
            "\n",
            "        [[23, 24, 25],\n",
            "         [26, 27, 28]]])\n"
          ]
        }
      ]
    },
    {
      "cell_type": "markdown",
      "source": [
        "Neste exemplo, tensor_3d representa um volume 3D com dimensões 3x2x3. Você pode acessar elementos individualmente usando índices em cada dimensão, e as operações matemáticas podem ser realizadas de maneira semelhante aos tensores 2D.\n",
        "\n",
        "Os tensores 3D são frequentemente encontrados em problemas de visão computacional para representar volumes de dados tridimensionais, como pilhas de imagens ou volumes médicos. Esses exemplos básicos podem ser expandidos conforme a complexidade do problema que você está enfrentando."
      ],
      "metadata": {
        "id": "umGcL3m2sY1I"
      },
      "id": "umGcL3m2sY1I"
    },
    {
      "cell_type": "markdown",
      "id": "83cd8734",
      "metadata": {
        "id": "83cd8734"
      },
      "source": [
        "### Derivadas no Pytorch"
      ]
    },
    {
      "cell_type": "markdown",
      "source": [
        "A derivada e a derivada parcial são conceitos fundamentais em cálculo diferencial, e desempenham um papel crucial na compreensão do comportamento de funções em uma ou mais variáveis. Vamos definir ambos os conceitos:\n",
        "\n",
        "1. **Derivada:**\n",
        "   - A derivada de uma função em relação a uma variável representa a taxa de variação instantânea da função em relação a essa variável. Em outras palavras, indica como a função está mudando em um ponto específico do domínio.\n",
        "   - A notação matemática padrão para a derivada de uma função $ f(x) $ em relação a $ x $ é $ f'(x) $ ou $(\\frac{df}{dx})$.\n",
        "   - Geometricamente, a derivada no ponto $ x $ é equivalente à inclinação da tangente à curva da função nesse ponto.\n",
        "   - Exemplo: Imagine que você está dirigindo em um carro e olhando para o velocímetro. A velocidade do carro está mudando constantemente conforme você dirige. A derivada de sua posição em relação ao tempo seria como a leitura instantânea do velocímetro, indicando a velocidade exata em que você está se movendo naquele momento. De maneira mais geral, a derivada de uma função em um ponto nos diz como a função está mudando nesse ponto. Se a função representa a posição de um objeto ao longo do tempo, a derivada seria a velocidade instantânea.\n",
        "\n",
        "2. **Derivada Parcial:**\n",
        "   - A derivada parcial de uma função de várias variáveis em relação a uma variável específica mede a taxa de variação da função em relação a essa variável, mantendo todas as outras variáveis constantes.\n",
        "   - A notação para a derivada parcial de uma função $ f(x, y, \\ldots) $ em relação a uma variável $ x $ é $ \\frac{\\partial f}{\\partial x}$. Aqui, $\\partial$ é usado para indicar uma derivada parcial.\n",
        "   - Analogamente, a derivada parcial em relação a $ y $ seria $ \\frac{\\partial f}{\\partial y} $, e assim por diante.\n",
        "   - Exemplo: Agora, imagine que você está em um terreno acidentado e a temperatura varia em diferentes partes desse terreno. A derivada parcial em relação à temperatura em um determinado ponto seria como medir o quanto a temperatura muda nesse ponto específico, mantendo todas as outras variáveis (como a posição) constantes. Em termos mais gerais, a derivada parcial de uma função de várias variáveis em relação a uma delas nos dá a taxa de variação da função em relação a uma variável específica, mantendo as outras constantes. É como analisar como uma característica específica influencia o comportamento da função, enquanto outras características permanecem inalteradas.\n",
        "\n",
        "Ambos os conceitos, derivada e derivada parcial, ajudam a entender como as coisas mudam em relação a uma variável ou a uma mudança em uma única dimensão, seja em trajetórias de carros ou em paisagens de temperatura. Essas ideias são fundamentais para modelagem matemática e são amplamente aplicadas em diversas áreas, desde física até aprendizado de máquina.\n",
        "\n",
        "A derivada é uma generalização da ideia de taxa de variação para funções de uma única variável, enquanto a derivada parcial lida com funções de várias variáveis, permitindo-nos entender como a função muda ao longo de cada dimensão independente.\n",
        "\n",
        "A fórmula para a derivada parcial em relação a uma variável específica é semelhante à fórmula da derivada para funções de uma variável, considerando todas as outras variáveis como constantes. Essas ferramentas são fundamentais para a análise e otimização de funções em problemas matemáticos e científicos."
      ],
      "metadata": {
        "id": "Sye38FCQlGnq"
      },
      "id": "Sye38FCQlGnq"
    },
    {
      "cell_type": "markdown",
      "source": [
        "A diferenciação automática é uma característica fundamental em PyTorch que permite calcular automaticamente gradientes em relação às variáveis de interesse. Isso é especialmente útil em aprendizado de máquina, onde otimizar modelos frequentemente envolve ajustar parâmetros para minimizar ou maximizar uma função de perda. O mecanismo de diferenciação automática em PyTorch é implementado pelo módulo `autograd`.\n",
        "\n",
        "Vamos ver como realizar diferenciação automática em PyTorch com um exemplo simples:\n",
        "\n",
        "```python\n",
        "import torch\n",
        "\n",
        "# Variáveis que requerem gradiente\n",
        "x = torch.tensor([2.0], requires_grad=True)\n",
        "y = torch.tensor([3.0], requires_grad=True)\n",
        "\n",
        "# Operações envolvendo as variáveis\n",
        "z = x**2 + y**3\n",
        "\n",
        "# Calcular gradientes\n",
        "z.backward()\n",
        "\n",
        "# Exibir gradientes\n",
        "print(\"Gradiente em relação a x:\", x.grad)\n",
        "print(\"Gradiente em relação a y:\", y.grad)\n",
        "\n",
        "Gradiente em relação a x: tensor([4.])\n",
        "Gradiente em relação a y: tensor([27.])\n",
        "```\n",
        "\n",
        "Neste exemplo, `x` e `y` são tensores que requerem gradiente (`requires_grad=True`). A expressão `z = x**2 + y**3` é calculada, e em seguida, chamamos `z.backward()` para calcular automaticamente os gradientes de `z` em relação a `x` e `y`. Os gradientes são então acessados através dos atributos `.grad` das variáveis.\n",
        "\n",
        "Este é um exemplo muito simples, mas em modelos de aprendizado de máquina, esses gradientes são essenciais para a retropropagação (backpropagation) durante o treinamento. Aqui está um exemplo mais elaborado usando uma função de perda e um otimizador:\n",
        "\n",
        "```python\n",
        "import torch\n",
        "import torch.optim as optim\n",
        "\n",
        "# Dados de entrada e saída desejada\n",
        "x_data = torch.tensor([1.0, 2.0, 3.0, 4.0], requires_grad=False)\n",
        "y_data = torch.tensor([2.0, 4.0, 6.0, 8.0], requires_grad=False)\n",
        "\n",
        "# Inicializando parâmetros\n",
        "w = torch.tensor([1.0], requires_grad=True)\n",
        "b = torch.tensor([0.0], requires_grad=True)\n",
        "\n",
        "# Definindo a função linear\n",
        "def modelo_linear(x):\n",
        "    return w * x + b\n",
        "\n",
        "# Função de perda (erro quadrático médio)\n",
        "def loss_function(y_pred, y_actual):\n",
        "    return torch.mean((y_pred - y_actual)**2)\n",
        "\n",
        "# Configurando o otimizador\n",
        "optimizer = optim.SGD([w, b], lr=0.01)\n",
        "\n",
        "# Treinamento do modelo\n",
        "for epoch in range(100):\n",
        "    # Forward pass\n",
        "    y_pred = modelo_linear(x_data)\n",
        "\n",
        "    # Cálculo da perda\n",
        "    loss = loss_function(y_pred, y_data)\n",
        "\n",
        "    # Retropropagação e otimização\n",
        "    optimizer.zero_grad()  # Zera os gradientes acumulados\n",
        "    loss.backward()        # Calcula gradientes\n",
        "    optimizer.step()        # Atualiza parâmetros\n",
        "\n",
        "# Exibindo parâmetros finais\n",
        "print(\"Parâmetros finais: w =\", w.item(), \", b =\", b.item())\n",
        "\n",
        "Parâmetros finais: w = 1.9231737852096558 , b = 0.22587870061397552\n",
        "```\n",
        "\n",
        "Neste exemplo, estamos treinando um modelo linear para ajustar dados de entrada (`x_data`) aos dados de saída desejados (`y_data`). O otimizador (gradiente descendente estocástico - SGD) é utilizado para ajustar os parâmetros `w` e `b` com base no erro da função de perda ao longo de várias iterações.\n",
        "\n",
        "Esses exemplos ilustram como o PyTorch facilita a diferenciação automática, permitindo a criação e treinamento de modelos de aprendizado de máquina de maneira eficiente."
      ],
      "metadata": {
        "id": "577o5SFfkYGz"
      },
      "id": "577o5SFfkYGz"
    },
    {
      "cell_type": "markdown",
      "id": "1577bf91",
      "metadata": {
        "id": "1577bf91"
      },
      "source": [
        "### Conjunto de Dados Simples"
      ]
    },
    {
      "cell_type": "markdown",
      "source": [
        "Vamos criar um exemplo básico usando o PyTorch para criar um conjunto de dados (`Dataset`), uma transformação e, em seguida, aplicar transformações adicionais, como normalização e padronização, usando a classe `Compose`. Neste exemplo, usaremos um conjunto de dados fictício representando observações de uma variável.\n",
        "\n",
        "```python\n",
        "import torch\n",
        "from torch.utils.data import Dataset\n",
        "from torchvision import transforms\n",
        "\n",
        "# Definindo um conjunto de dados simples\n",
        "class SimpleDataset(Dataset):\n",
        "    def __init__(self, data):\n",
        "        self.data = data\n",
        "\n",
        "    def __len__(self):\n",
        "        return len(self.data)\n",
        "\n",
        "    def __getitem__(self, index):\n",
        "        return self.data[index]\n",
        "\n",
        "# Criando um objeto de conjunto de dados\n",
        "dados = [1.0, 2.0, 3.0, 4.0, 5.0]\n",
        "meu_dataset = SimpleDataset(dados)\n",
        "\n",
        "# Definindo uma transformação simples (multiplicar por 2)\n",
        "class MultiplyTransform:\n",
        "    def __init__(self, factor):\n",
        "        self.factor = factor\n",
        "\n",
        "    def __call__(self, sample):\n",
        "        return sample * self.factor\n",
        "\n",
        "# Criando uma instância da transformação\n",
        "transformacao_multiplica_por_2 = MultiplyTransform(factor=2)\n",
        "\n",
        "# Aplicando a transformação ao conjunto de dados\n",
        "dados_transformados = transformacao_multiplica_por_2(meu_dataset.data)\n",
        "print(\"Dados transformados:\", dados_transformados)\n",
        "\n",
        "# Criando transformações de normalização e padronização\n",
        "transformacao_normalizacao = transforms.Normalize(mean=0, std=1)\n",
        "transformacao_padronizacao = transforms.Standardize()\n",
        "\n",
        "# Compondo as transformações\n",
        "transformacoes_compostas = transforms.Compose([transformacao_multiplica_por_2, transformacao_normalizacao, transformacao_padronizacao])\n",
        "\n",
        "# Aplicando transformações compostas ao conjunto de dados\n",
        "dados_transformados_compostos = transformacoes_compostas(torch.tensor(meu_dataset.data, dtype=torch.float32))\n",
        "print(\"Dados transformados compostos:\", dados_transformados_compostos)\n",
        "```\n",
        "\n",
        "Neste exemplo:\n",
        "\n",
        "- Criamos um conjunto de dados simples chamado `SimpleDataset`.\n",
        "- Definimos uma transformação chamada `MultiplyTransform` que multiplica cada elemento por um fator específico.\n",
        "- Aplicamos essa transformação ao conjunto de dados original.\n",
        "- Em seguida, utilizamos as transformações `Normalize` e `Standardize` fornecidas pelo módulo `transforms` do PyTorch, e as compomos usando `Compose`.\n",
        "- Finalmente, aplicamos as transformações compostas ao conjunto de dados original.\n",
        "\n",
        "Lembrando que as transformações de normalização e padronização são exemplos genéricos e os valores específicos (média e desvio padrão) devem ser ajustados de acordo com a natureza dos dados."
      ],
      "metadata": {
        "id": "gJ3LJIL8uvrX"
      },
      "id": "gJ3LJIL8uvrX"
    },
    {
      "cell_type": "markdown",
      "id": "9e28c20f",
      "metadata": {
        "id": "9e28c20f"
      },
      "source": [
        "### Conjunto de Dados"
      ]
    },
    {
      "cell_type": "markdown",
      "source": [
        "Vamos criar um exemplo de `Dataset` para imagens usando `torchvision.transforms` e `torchvision.datasets`. Para isso, precisaremos importar as bibliotecas necessárias e usar um conjunto de dados existente. Neste caso, usaremos o conjunto de dados CIFAR-10 e aplicaremos algumas transformações.\n",
        "\n",
        "Certifique-se de ter o PyTorch e torchvision instalados antes de executar o código.\n",
        "\n",
        "```python\n",
        "import torch\n",
        "from torchvision import transforms\n",
        "from torchvision.datasets import CIFAR10\n",
        "from torch.utils.data import Dataset, DataLoader\n",
        "import matplotlib.pyplot as plt\n",
        "\n",
        "# Definindo um novo conjunto de dados para imagens\n",
        "class CustomImageDataset(Dataset):\n",
        "    def __init__(self, dataset, transform=None):\n",
        "        self.dataset = dataset\n",
        "        self.transform = transform\n",
        "\n",
        "    def __len__(self):\n",
        "        return len(self.dataset)\n",
        "\n",
        "    def __getitem__(self, index):\n",
        "        image, label = self.dataset[index]\n",
        "\n",
        "        # Aplicando transformações, se fornecidas\n",
        "        if self.transform:\n",
        "            image = self.transform(image)\n",
        "\n",
        "        return image, label\n",
        "\n",
        "# Definindo transformações comuns para imagens\n",
        "transformacoes_comuns = transforms.Compose([\n",
        "    transforms.ToTensor(),  # Converte a imagem para tensor\n",
        "    transforms.Normalize((0.5, 0.5, 0.5), (0.5, 0.5, 0.5))  # Normaliza os valores dos pixels para o intervalo [-1, 1]\n",
        "])\n",
        "\n",
        "# Baixando o conjunto de dados CIFAR-10\n",
        "conjunto_dados_cifar10 = CIFAR10(root='./data', train=True, download=True)\n",
        "\n",
        "# Criando uma instância do conjunto de dados personalizado com as transformações\n",
        "meu_dataset = CustomImageDataset(dataset=conjunto_dados_cifar10, transform=transformacoes_comuns)\n",
        "\n",
        "# Criando um DataLoader para facilitar o acesso aos dados em lotes\n",
        "loader = DataLoader(meu_dataset, batch_size=4, shuffle=True)\n",
        "\n",
        "# Exibindo alguns exemplos de imagens após as transformações\n",
        "for imagens, labels in loader:\n",
        "    plt.figure(figsize=(10, 2))\n",
        "    for i in range(4):\n",
        "        plt.subplot(1, 4, i + 1)\n",
        "        plt.imshow((imagens[i].numpy().transpose(1, 2, 0) + 1) / 2)  # Desnormaliza e transpõe para exibição correta\n",
        "        plt.title(f\"Classe: {labels[i]}\")\n",
        "        plt.axis('off')\n",
        "    plt.show()\n",
        "    break  # Exibiremos apenas um lote para manter o exemplo conciso\n",
        "```\n",
        "\n",
        "Neste exemplo:\n",
        "\n",
        "- Criamos um conjunto de dados personalizado chamado `CustomImageDataset`, que herda da classe `Dataset`.\n",
        "- Utilizamos o conjunto de dados CIFAR-10 da torchvision.\n",
        "- Definimos transformações comuns usando `torchvision.transforms.Compose`, incluindo a conversão para tensor (`ToTensor()`) e normalização.\n",
        "- Criamos uma instância do conjunto de dados personalizado usando o conjunto de dados CIFAR-10 e aplicamos as transformações.\n",
        "- Utilizamos um `DataLoader` para facilitar o acesso aos dados em lotes.\n",
        "- Exibimos alguns exemplos de imagens após as transformações.\n",
        "\n",
        "Este exemplo serve como ponto de partida para trabalhar com conjuntos de dados de imagens, aplicar transformações e utilizar `DataLoader` para carregar os dados de forma eficiente durante o treinamento de modelos."
      ],
      "metadata": {
        "id": "H-13DD8pzPAD"
      },
      "id": "H-13DD8pzPAD"
    },
    {
      "cell_type": "markdown",
      "id": "2def1558",
      "metadata": {
        "id": "2def1558"
      },
      "source": [
        "## Semana 2"
      ]
    },
    {
      "cell_type": "markdown",
      "id": "08ac4ec1",
      "metadata": {
        "id": "08ac4ec1"
      },
      "source": [
        "### Regressão Linear em 1D"
      ]
    },
    {
      "cell_type": "markdown",
      "source": [
        "Vamos criar um exemplo simples de regressão linear usando PyTorch, construindo uma classe linear básica e outra usando `nn.Module` para encapsular o modelo. Neste exemplo, usaremos dados de treinamento gerados aleatoriamente."
      ],
      "metadata": {
        "id": "SwnMUGTg9idz"
      },
      "id": "SwnMUGTg9idz"
    },
    {
      "cell_type": "code",
      "source": [
        "import torch\n",
        "import torch.nn as nn\n",
        "import torch.optim as optim\n",
        "import numpy as np\n",
        "import matplotlib.pyplot as plt\n",
        "\n",
        "# Gerando dados de treinamento\n",
        "np.random.seed(42)\n",
        "x_train = np.random.rand(100, 1) * 10\n",
        "y_train = 2 * x_train + 1 + 2 * np.random.randn(100, 1)\n",
        "\n",
        "# Convertendo para tensores do PyTorch\n",
        "x_train_tensor = torch.from_numpy(x_train).float()\n",
        "y_train_tensor = torch.from_numpy(y_train).float()\n",
        "\n",
        "# Definindo uma classe para regressão linear\n",
        "class LinearRegressionModel(nn.Module):\n",
        "    def __init__(self, input_size, output_size):\n",
        "        super(LinearRegressionModel, self).__init__()\n",
        "        self.linear = nn.Linear(input_size, output_size)\n",
        "\n",
        "    def forward(self, x):\n",
        "        return self.linear(x)\n",
        "\n",
        "# Criando uma instância do modelo\n",
        "input_size = 1  # Uma variável de entrada\n",
        "output_size = 1  # Uma saída\n",
        "modelo_regressao_linear = LinearRegressionModel(input_size, output_size)\n",
        "\n",
        "# Definindo a função de perda (Mean Squared Error)\n",
        "criterio = nn.MSELoss()\n",
        "\n",
        "# Definindo o otimizador (Gradiente Descendente Estocástico)\n",
        "otimizador = optim.SGD(modelo_regressao_linear.parameters(), lr=0.01)\n",
        "\n",
        "# Treinando o modelo\n",
        "num_epochs = 1000\n",
        "\n",
        "for epoch in range(num_epochs):\n",
        "    # Forward pass\n",
        "    y_pred = modelo_regressao_linear(x_train_tensor)\n",
        "\n",
        "    # Calculando a perda\n",
        "    loss = criterio(y_pred, y_train_tensor)\n",
        "\n",
        "    # Retropropagação e otimização\n",
        "    otimizador.zero_grad()\n",
        "    loss.backward() # calcula os gradientes\n",
        "    otimizador.step() # atualiza os pesos do modelo\n",
        "\n",
        "    # Exibindo a perda a cada 100 épocas\n",
        "    if (epoch + 1) % 100 == 0:\n",
        "        print(f'Época [{epoch + 1}/{num_epochs}], Perda: {loss.item():.4f}')\n",
        "\n",
        "# Visualizando os resultados\n",
        "modelo_regressao_linear.eval()\n",
        "with torch.no_grad():\n",
        "    y_pred_final = modelo_regressao_linear(x_train_tensor)\n",
        "\n",
        "plt.scatter(x_train, y_train, label='Dados de Treinamento')\n",
        "plt.plot(x_train, y_pred_final.numpy(), color='red', label='Predições do Modelo')\n",
        "plt.xlabel('X')\n",
        "plt.ylabel('Y')\n",
        "plt.legend()\n",
        "plt.show()"
      ],
      "metadata": {
        "colab": {
          "base_uri": "https://localhost:8080/",
          "height": 623
        },
        "id": "08yFjuqz9dRx",
        "outputId": "cbe31a77-a69f-43fa-9a2f-c2827f511536"
      },
      "id": "08yFjuqz9dRx",
      "execution_count": 10,
      "outputs": [
        {
          "output_type": "stream",
          "name": "stdout",
          "text": [
            "Época [100/1000], Perda: 3.4729\n",
            "Época [200/1000], Perda: 3.3074\n",
            "Época [300/1000], Perda: 3.2530\n",
            "Época [400/1000], Perda: 3.2351\n",
            "Época [500/1000], Perda: 3.2292\n",
            "Época [600/1000], Perda: 3.2273\n",
            "Época [700/1000], Perda: 3.2266\n",
            "Época [800/1000], Perda: 3.2264\n",
            "Época [900/1000], Perda: 3.2264\n",
            "Época [1000/1000], Perda: 3.2263\n"
          ]
        },
        {
          "output_type": "display_data",
          "data": {
            "text/plain": [
              "<Figure size 640x480 with 1 Axes>"
            ],
            "image/png": "[encoded data removed]"
          },
          "metadata": {}
        }
      ]
    },
    {
      "cell_type": "markdown",
      "source": [
        "Neste exemplo:\n",
        "\n",
        "- Criamos dados de treinamento simples usando uma relação linear $y = 2x + 1 + \\epsilon$, onde $\\epsilon$ é ruído.\n",
        "- Definimos uma classe `LinearRegressionModel` que herda de `nn.Module` para encapsular o modelo linear.\n",
        "- Utilizamos o otimizador SGD (Gradiente Descendente Estocástico) e a função de perda Mean Squared Error (MSE).\n",
        "- Treinamos o modelo por várias épocas, atualizando os pesos com base no erro entre as previsões e os rótulos reais.\n",
        "- Visualizamos os resultados, exibindo os dados de treinamento e as previsões do modelo.\n",
        "\n",
        "Este é um exemplo básico de regressão linear com PyTorch. Em aplicações práticas, você geralmente trabalharia com conjuntos de dados mais complexos e modelos mais sofisticados, mas este exemplo serve como uma introdução à implementação de regressão linear utilizando PyTorch."
      ],
      "metadata": {
        "id": "NIunsUUM9org"
      },
      "id": "NIunsUUM9org"
    },
    {
      "cell_type": "markdown",
      "source": [
        "**Custo:**\n",
        "O termo \"custo\" em aprendizado de máquina refere-se à medida de quão mal um modelo está performando em seus dados de treinamento. O objetivo durante o treinamento de um modelo é minimizar esse custo. O custo é frequentemente representado por uma função que compara as previsões do modelo com os rótulos reais e atribui uma pontuação que indica o quão distante as previsões estão da verdade.\n",
        "\n",
        "**Função de Custo:**\n",
        "A função de custo, também conhecida como função de perda ou função objetivo, é uma expressão matemática que calcula o custo associado às previsões do modelo em relação aos rótulos reais. A escolha da função de custo depende do tipo de problema que está sendo abordado (classificação, regressão, etc.). Por exemplo, para problemas de regressão linear, a função de custo comum é o erro quadrático médio (Mean Squared Error - MSE), enquanto para problemas de classificação binária, pode ser a entropia cruzada binária.\n",
        "\n",
        "**Gradiente Descendente:**\n",
        "O gradiente descendente é um algoritmo de otimização utilizado para minimizar a função de custo, ajustando iterativamente os parâmetros do modelo. A ideia fundamental é seguir a inclinação negativa (gradiente) da função de custo para encontrar o mínimo. Em cada iteração, os pesos do modelo são ajustados na direção oposta ao gradiente da função de custo em relação aos pesos. Isso é feito multiplicando o gradiente pela taxa de aprendizado e subtraindo esse resultado dos pesos atuais.\n",
        "\n",
        "O processo de treinamento de um modelo com gradiente descendente envolve repetir as seguintes etapas:\n",
        "1. Calcular as previsões do modelo.\n",
        "2. Calcular o valor da função de custo com base nas previsões e nos rótulos reais.\n",
        "3. Calcular o gradiente da função de custo em relação aos parâmetros do modelo (os pesos).\n",
        "4. Atualizar os pesos usando o gradiente descendente.\n",
        "\n",
        "Esse ciclo é repetido até que o modelo atinja um desempenho aceitável ou até que o número predefinido de iterações seja alcançado.\n",
        "\n",
        "Em resumo, o gradiente descendente é uma técnica fundamental para otimizar modelos de aprendizado de máquina, minimizando a função de custo e melhorando o desempenho do modelo nos dados de treinamento."
      ],
      "metadata": {
        "id": "iVRu6I5ZXT80"
      },
      "id": "iVRu6I5ZXT80"
    },
    {
      "cell_type": "markdown",
      "id": "d9e44a74",
      "metadata": {
        "id": "d9e44a74"
      },
      "source": [
        "### Gradiente Descendente Estocástico"
      ]
    },
    {
      "cell_type": "markdown",
      "source": [
        "O Gradiente Descendente Estocástico (SGD, do inglês Stochastic Gradient Descent) é uma variação do algoritmo de otimização do Gradiente Descendente, frequentemente usado no treinamento de modelos de aprendizado de máquina e redes neurais. A principal diferença entre o Gradiente Descendente Estocástico e o Gradiente Descendente clássico está na forma como as atualizações dos parâmetros do modelo são realizadas.\n",
        "\n",
        "Aqui está uma visão geral do SGD:\n",
        "\n",
        "1. **Gradiente Descendente Clássico:**\n",
        "   - No Gradiente Descendente clássico, a atualização dos parâmetros é realizada utilizando o gradiente médio dos parâmetros sobre o conjunto de dados de treinamento completo.\n",
        "   - A função de custo é calculada considerando todos os exemplos de treinamento.\n",
        "\n",
        "2. **Gradiente Descendente Estocástico:**\n",
        "   - No SGD, a atualização dos parâmetros é realizada a cada exemplo de treinamento (ou em pequenos lotes, chamados mini lotes).\n",
        "   - Em vez de calcular o gradiente médio, o gradiente é calculado apenas para um exemplo (ou mini lote) aleatório a cada iteração.\n",
        "   - Isso introduz estocasticidade (aleatoriedade) no processo de atualização dos parâmetros.\n",
        "\n",
        "**Vantagens do SGD:**\n",
        "- **Eficiência Computacional:** Utilizar apenas um exemplo ou mini lote por vez é computacionalmente eficiente, especialmente em conjuntos de dados grandes.\n",
        "- **Mais Rápido para Convergência:** A aleatoriedade introduzida pode ajudar a escapar de mínimos locais e acelerar a convergência, especialmente em funções de custo não convexas.\n",
        "\n",
        "**Desafios do SGD:**\n",
        "- **Estocasticidade:** Devido à estocasticidade, o SGD pode levar a uma convergência mais ruidosa. A função de custo pode variar mais ao longo do tempo.\n",
        "- **Taxa de Aprendizado Ajustável:** A escolha apropriada da taxa de aprendizado é crucial. Pode ser necessário ajustar dinamicamente a taxa de aprendizado durante o treinamento.\n",
        "\n",
        "**Exemplo de Uso:**\n",
        "```python\n",
        "import torch\n",
        "import torch.optim as optim\n",
        "\n",
        "# Definindo um modelo e uma função de custo\n",
        "model = torch.nn.Linear(2, 1)\n",
        "criterion = torch.nn.MSELoss()\n",
        "\n",
        "# Definindo um otimizador SGD\n",
        "optimizer = optim.SGD(model.parameters(), lr=0.01)\n",
        "\n",
        "# Exemplo de treinamento com SGD\n",
        "for epoch in range(num_epochs):\n",
        "    for inputs, labels in data_loader:  # Iterando sobre mini lotes\n",
        "        optimizer.zero_grad()\n",
        "        outputs = model(inputs)\n",
        "        loss = criterion(outputs, labels)\n",
        "        loss.backward()\n",
        "        optimizer.step()\n",
        "```\n",
        "\n",
        "Neste exemplo, `optim.SGD` é usado como otimizador para aplicar o Gradiente Descendente Estocástico durante o treinamento. O loop aninhado sobre mini lotes ilustra o conceito de atualização de parâmetros para cada exemplo ou mini lote."
      ],
      "metadata": {
        "id": "W_m9aN3CslX3"
      },
      "id": "W_m9aN3CslX3"
    },
    {
      "cell_type": "markdown",
      "source": [
        "### Dataloader"
      ],
      "metadata": {
        "id": "wYtaheaSukFr"
      },
      "id": "wYtaheaSukFr"
    },
    {
      "cell_type": "markdown",
      "source": [
        "O DataLoader é uma classe em PyTorch que facilita o carregamento eficiente de dados durante o treinamento de modelos de aprendizado de máquina. Ele é parte do módulo `torch.utils.data` e oferece uma interface amigável para trabalhar com conjuntos de dados, especialmente em tarefas de treinamento e validação.\n",
        "\n",
        "Principais funções do DataLoader:\n",
        "\n",
        "1. **Divisão em Mini Lotes:**\n",
        "   - Um dos principais propósitos do DataLoader é dividir automaticamente o conjunto de dados em mini lotes. Cada mini lote contém um subconjunto dos dados, facilitando o treinamento do modelo em partes menores.\n",
        "\n",
        "2. **Embaralhamento e Amostragem Aleatória:**\n",
        "   - O DataLoader pode embaralhar os dados no início de cada época, o que é útil para evitar que o modelo memorize a ordem dos exemplos de treinamento. Além disso, o DataLoader pode amostrar os exemplos de forma aleatória.\n",
        "\n",
        "3. **Paralelismo de Carregamento de Dados:**\n",
        "   - Em casos onde há disponibilidade de recursos, o DataLoader permite carregar mini lotes em paralelo, aproveitando a capacidade do sistema para carregar dados mais rapidamente.\n",
        "\n",
        "4. **Tratamento de Dados Nulos:**\n",
        "   - O DataLoader pode lidar com situações em que há exemplos ausentes ou com rótulos ausentes, facilitando o gerenciamento desses casos durante o treinamento.\n",
        "\n",
        "5. **Preparação de Dados para GPU:**\n",
        "   - Facilita a transferência eficiente dos dados para a GPU, caso ela esteja disponível, permitindo treinamento acelerado.\n",
        "\n",
        "Aqui está um exemplo básico de como usar o DataLoader:\n",
        "\n",
        "```python\n",
        "import torch\n",
        "from torch.utils.data import DataLoader, TensorDataset\n",
        "\n",
        "# Criando dados fictícios\n",
        "x_train = torch.randn((1000, 3, 64, 64))  # Exemplo de imagens (canais x altura x largura)\n",
        "y_train = torch.randint(0, 2, (1000,))  # Exemplo de rótulos binários\n",
        "\n",
        "# Criando um conjunto de dados PyTorch\n",
        "dataset = TensorDataset(x_train, y_train)\n",
        "\n",
        "# Criando um DataLoader\n",
        "batch_size = 32\n",
        "shuffle = True\n",
        "num_workers = 4  # Número de processos de leitura em paralelo\n",
        "data_loader = DataLoader(dataset, batch_size=batch_size, shuffle=shuffle, num_workers=num_workers)\n",
        "\n",
        "# Iterando sobre os mini lotes\n",
        "for inputs, labels in data_loader:\n",
        "    # Treinar o modelo com este mini lote\n",
        "    pass\n",
        "```\n",
        "\n",
        "Neste exemplo, criamos um DataLoader para um conjunto de dados fictício contendo imagens e rótulos. Durante o treinamento do modelo, podemos iterar sobre os mini lotes gerados pelo DataLoader. Esse processo é fundamental para garantir que o modelo tenha acesso eficiente aos dados durante o treinamento."
      ],
      "metadata": {
        "id": "FseEBRMdsqFD"
      },
      "id": "FseEBRMdsqFD"
    },
    {
      "cell_type": "markdown",
      "id": "a88a98ad",
      "metadata": {
        "id": "a88a98ad"
      },
      "source": [
        "### Mini-Batch Gradient Descent"
      ]
    },
    {
      "cell_type": "markdown",
      "source": [
        "O Mini-Batch Gradient Descent é uma variação do Gradiente Descendente em que, em vez de calcular o gradiente e fazer uma atualização de parâmetros usando o **conjunto de dados completo** (Batch Gradient Descent) ou apenas **um exemplo por vez** (Stochastic Gradient Descent), trabalhamos com mini lotes de dados. Cada atualização de parâmetro é realizada com base em um pequeno subconjunto (mini lote) dos dados de treinamento.\n",
        "\n",
        "Usar o Gradiente Descendente Estocástico (SGD) com o DataLoader em PyTorch é bastante simples. O DataLoader lida com o embaralhamento dos dados e a divisão em mini lotes, enquanto o otimizador SGD é responsável pelas atualizações dos parâmetros do modelo. Aqui está um exemplo básico:\n",
        "\n",
        "```python\n",
        "import torch\n",
        "import torch.nn as nn\n",
        "import torch.optim as optim\n",
        "from torch.utils.data import DataLoader, TensorDataset\n",
        "\n",
        "# Criando dados fictícios\n",
        "x_train = torch.randn((1000, 3, 64, 64))  # Exemplo de imagens (canais x altura x largura)\n",
        "y_train = torch.randint(0, 2, (1000,))  # Exemplo de rótulos binários\n",
        "\n",
        "# Criando um conjunto de dados PyTorch\n",
        "dataset = TensorDataset(x_train, y_train)\n",
        "\n",
        "# Criando um DataLoader\n",
        "batch_size = 32\n",
        "shuffle = True\n",
        "num_workers = 4  # Número de processos de leitura em paralelo\n",
        "data_loader = DataLoader(dataset, batch_size=batch_size, shuffle=shuffle, num_workers=num_workers)\n",
        "\n",
        "# Criando um modelo de exemplo\n",
        "class SimpleModel(nn.Module):\n",
        "    def __init__(self):\n",
        "        super(SimpleModel, self).__init__()\n",
        "        self.fc = nn.Linear(3 * 64 * 64, 1)\n",
        "\n",
        "    def forward(self, x):\n",
        "        x = x.view(x.size(0), -1)  # Achatando as imagens para um vetor\n",
        "        return self.fc(x)\n",
        "\n",
        "# Criando uma instância do modelo\n",
        "modelo = SimpleModel()\n",
        "\n",
        "# Definindo a função de perda e o otimizador SGD\n",
        "criterio = nn.BCEWithLogitsLoss()  # Para problemas de classificação binária\n",
        "otimizador = optim.SGD(modelo.parameters(), lr=0.01)\n",
        "\n",
        "# Treinando o modelo usando SGD e DataLoader\n",
        "num_epochs = 10\n",
        "\n",
        "for epoch in range(num_epochs):\n",
        "    for inputs, labels in data_loader:\n",
        "        # Forward pass\n",
        "        outputs = modelo(inputs)\n",
        "        loss = criterio(outputs.squeeze(), labels.float())\n",
        "\n",
        "        # Backward pass e otimização\n",
        "        otimizador.zero_grad()\n",
        "        loss.backward()\n",
        "        otimizador.step()\n",
        "\n",
        "    print(f'Época [{epoch + 1}/{num_epochs}], Perda: {loss.item():.4f}')\n",
        "\n",
        "Época [1/10], Perda: 0.9239\n",
        "Época [2/10], Perda: 0.1510\n",
        "Época [3/10], Perda: 0.1002\n",
        "Época [4/10], Perda: 0.0714\n",
        "Época [5/10], Perda: 0.0521\n",
        "Época [6/10], Perda: 0.0513\n",
        "Época [7/10], Perda: 0.0373\n",
        "Época [8/10], Perda: 0.0273\n",
        "Época [9/10], Perda: 0.0294\n",
        "Época [10/10], Perda: 0.0289\n",
        "```\n",
        "\n",
        "Neste exemplo:\n",
        "\n",
        "- Criamos um DataLoader para o conjunto de dados usando a classe `DataLoader`.\n",
        "- Definimos um modelo de exemplo (`SimpleModel`) para fins ilustrativos.\n",
        "- Utilizamos a função de perda `BCEWithLogitsLoss`, que é apropriada para problemas de classificação binária.\n",
        "- Utilizamos o otimizador SGD para ajustar os parâmetros do modelo.\n",
        "- Iteramos sobre os mini lotes gerados pelo DataLoader durante o treinamento, realizando o treinamento por várias épocas.\n",
        "\n",
        "Este é um exemplo básico para demonstrar como usar o DataLoader em conjunto com o SGD para treinar um modelo. Em aplicações práticas, você adaptaria o modelo, a função de perda e outros hiperparâmetros para atender às necessidades específicas do seu problema."
      ],
      "metadata": {
        "id": "U9rq41OQw0yQ"
      },
      "id": "U9rq41OQw0yQ"
    },
    {
      "cell_type": "markdown",
      "id": "98a58c7d",
      "metadata": {
        "id": "98a58c7d"
      },
      "source": [
        "### Treinamento, Validação e Divisão de Dados"
      ]
    },
    {
      "cell_type": "code",
      "source": [
        "import torch\n",
        "import torch.nn as nn\n",
        "import torch.optim as optim\n",
        "from torch.utils.data import DataLoader, TensorDataset\n",
        "from sklearn.model_selection import train_test_split\n",
        "import matplotlib.pyplot as plt\n",
        "\n",
        "# Criando dados fictícios\n",
        "torch.manual_seed(42)\n",
        "X = torch.rand(1000, 1)  # Feature unidimensional\n",
        "y = 2 * X + 1 + 0.1 * torch.rand(1000, 1)  # Regressão linear com ruído\n",
        "\n",
        "# Dividindo os dados em treino, validação e teste\n",
        "X_train, X_temp, y_train, y_temp = train_test_split(X, y, test_size=0.3, random_state=42)\n",
        "X_val, X_test, y_val, y_test = train_test_split(X_temp, y_temp, test_size=0.5, random_state=42)\n",
        "\n",
        "# Convertendo para tensores\n",
        "X_train, y_train = torch.tensor(X_train, dtype=torch.float32), torch.tensor(y_train, dtype=torch.float32)\n",
        "X_val, y_val = torch.tensor(X_val, dtype=torch.float32), torch.tensor(y_val, dtype=torch.float32)\n",
        "X_test, y_test = torch.tensor(X_test, dtype=torch.float32), torch.tensor(y_test, dtype=torch.float32)\n",
        "\n",
        "# Criando conjuntos de dados PyTorch\n",
        "train_dataset = TensorDataset(X_train, y_train)\n",
        "val_dataset = TensorDataset(X_val, y_val)\n",
        "test_dataset = TensorDataset(X_test, y_test)\n",
        "\n",
        "# Criando DataLoader para treino, validação e teste\n",
        "batch_size = 32\n",
        "train_loader = DataLoader(train_dataset, batch_size=batch_size, shuffle=True)\n",
        "val_loader = DataLoader(val_dataset, batch_size=batch_size)\n",
        "test_loader = DataLoader(test_dataset, batch_size=batch_size)\n",
        "\n",
        "# Definindo um modelo de regressão linear simples\n",
        "class LinearRegressionModel(nn.Module):\n",
        "    def __init__(self):\n",
        "        super(LinearRegressionModel, self).__init__()\n",
        "        self.linear = nn.Linear(1, 1)\n",
        "\n",
        "    def forward(self, x):\n",
        "        return self.linear(x)\n",
        "\n",
        "# Criando uma instância do modelo\n",
        "model = LinearRegressionModel()\n",
        "\n",
        "# Definindo a função de perda e o otimizador\n",
        "criterion = nn.MSELoss()\n",
        "optimizer = optim.SGD(model.parameters(), lr=0.01)\n",
        "\n",
        "# Treinando o modelo\n",
        "num_epochs = 500\n",
        "train_losses, val_losses = [], []\n",
        "\n",
        "for epoch in range(num_epochs):\n",
        "    model.train()  # Modo de treino\n",
        "    for inputs, labels in train_loader:\n",
        "        optimizer.zero_grad()\n",
        "        outputs = model(inputs)\n",
        "        loss = criterion(outputs, labels)\n",
        "        loss.backward()\n",
        "        optimizer.step()\n",
        "\n",
        "    # Calculando a perda no conjunto de treino\n",
        "    model.eval()  # Modo de avaliação\n",
        "    with torch.no_grad():\n",
        "        total_val_loss = 0\n",
        "        for inputs_val, labels_val in val_loader:\n",
        "            outputs_val = model(inputs_val)\n",
        "            val_loss = criterion(outputs_val, labels_val)\n",
        "            total_val_loss += val_loss.item()\n",
        "\n",
        "    average_val_loss = total_val_loss / len(val_loader)\n",
        "    val_losses.append(average_val_loss)\n",
        "\n",
        "    print(f'Época [{epoch + 1}/{num_epochs}], Perda de Treino: {loss.item():.4f}, Perda de Validação: {average_val_loss:.4f}')\n",
        "\n",
        "# Testando o modelo\n",
        "model.eval()  # Modo de avaliação\n",
        "with torch.no_grad():\n",
        "    total_test_loss = 0\n",
        "    for inputs_test, labels_test in test_loader:\n",
        "        outputs_test = model(inputs_test)\n",
        "        test_loss = criterion(outputs_test, labels_test)\n",
        "        total_test_loss += test_loss.item()\n",
        "\n",
        "average_test_loss = total_test_loss / len(test_loader)\n",
        "print(f'Perda no Conjunto de Teste: {average_test_loss:.4f}')\n",
        "\n",
        "# Visualizando os resultados\n",
        "plt.scatter(X_test, y_test, label='Dados Reais')\n",
        "plt.plot(X_test, model(X_test).detach().numpy(), color='red', label='Regressão Linear Ajustada')\n",
        "plt.xlabel('X')\n",
        "plt.ylabel('y')\n",
        "plt.legend()\n",
        "plt.show()"
      ],
      "metadata": {
        "colab": {
          "base_uri": "https://localhost:8080/",
          "height": 1000
        },
        "id": "QYEVzuIQgk8X",
        "outputId": "75af1ebb-7bbb-4c7d-c5a8-3ce73b6de113"
      },
      "id": "QYEVzuIQgk8X",
      "execution_count": 8,
      "outputs": [
        {
          "output_type": "stream",
          "name": "stderr",
          "text": [
            "<ipython-input-8-5575a6d8be30>:18: UserWarning: To copy construct from a tensor, it is recommended to use sourceTensor.clone().detach() or sourceTensor.clone().detach().requires_grad_(True), rather than torch.tensor(sourceTensor).\n",
            "  X_train, y_train = torch.tensor(X_train, dtype=torch.float32), torch.tensor(y_train, dtype=torch.float32)\n",
            "<ipython-input-8-5575a6d8be30>:19: UserWarning: To copy construct from a tensor, it is recommended to use sourceTensor.clone().detach() or sourceTensor.clone().detach().requires_grad_(True), rather than torch.tensor(sourceTensor).\n",
            "  X_val, y_val = torch.tensor(X_val, dtype=torch.float32), torch.tensor(y_val, dtype=torch.float32)\n",
            "<ipython-input-8-5575a6d8be30>:20: UserWarning: To copy construct from a tensor, it is recommended to use sourceTensor.clone().detach() or sourceTensor.clone().detach().requires_grad_(True), rather than torch.tensor(sourceTensor).\n",
            "  X_test, y_test = torch.tensor(X_test, dtype=torch.float32), torch.tensor(y_test, dtype=torch.float32)\n"
          ]
        },
        {
          "output_type": "stream",
          "name": "stdout",
          "text": [
            "Época [1/500], Perda de Treino: 2.6193, Perda de Validação: 2.7055\n",
            "Época [2/500], Perda de Treino: 1.1110, Perda de Validação: 0.9546\n",
            "Época [3/500], Perda de Treino: 0.3243, Perda de Validação: 0.3721\n",
            "Época [4/500], Perda de Treino: 0.1872, Perda de Validação: 0.1759\n",
            "Época [5/500], Perda de Treino: 0.1071, Perda de Validação: 0.1061\n",
            "Época [6/500], Perda de Treino: 0.0844, Perda de Validação: 0.0796\n",
            "Época [7/500], Perda de Treino: 0.0713, Perda de Validação: 0.0681\n",
            "Época [8/500], Perda de Treino: 0.0509, Perda de Validação: 0.0618\n",
            "Época [9/500], Perda de Treino: 0.0614, Perda de Validação: 0.0574\n",
            "Época [10/500], Perda de Treino: 0.0570, Perda de Validação: 0.0538\n",
            "Época [11/500], Perda de Treino: 0.0333, Perda de Validação: 0.0506\n",
            "Época [12/500], Perda de Treino: 0.0372, Perda de Validação: 0.0477\n",
            "Época [13/500], Perda de Treino: 0.0359, Perda de Validação: 0.0450\n",
            "Época [14/500], Perda de Treino: 0.0448, Perda de Validação: 0.0424\n",
            "Época [15/500], Perda de Treino: 0.0552, Perda de Validação: 0.0400\n",
            "Época [16/500], Perda de Treino: 0.0329, Perda de Validação: 0.0378\n",
            "Época [17/500], Perda de Treino: 0.0442, Perda de Validação: 0.0356\n",
            "Época [18/500], Perda de Treino: 0.0340, Perda de Validação: 0.0336\n",
            "Época [19/500], Perda de Treino: 0.0341, Perda de Validação: 0.0317\n",
            "Época [20/500], Perda de Treino: 0.0296, Perda de Validação: 0.0300\n",
            "Época [21/500], Perda de Treino: 0.0359, Perda de Validação: 0.0283\n",
            "Época [22/500], Perda de Treino: 0.0319, Perda de Validação: 0.0267\n",
            "Época [23/500], Perda de Treino: 0.0258, Perda de Validação: 0.0252\n",
            "Época [24/500], Perda de Treino: 0.0242, Perda de Validação: 0.0238\n",
            "Época [25/500], Perda de Treino: 0.0252, Perda de Validação: 0.0225\n",
            "Época [26/500], Perda de Treino: 0.0179, Perda de Validação: 0.0213\n",
            "Época [27/500], Perda de Treino: 0.0209, Perda de Validação: 0.0201\n",
            "Época [28/500], Perda de Treino: 0.0173, Perda de Validação: 0.0190\n",
            "Época [29/500], Perda de Treino: 0.0239, Perda de Validação: 0.0180\n",
            "Época [30/500], Perda de Treino: 0.0204, Perda de Validação: 0.0170\n",
            "Época [31/500], Perda de Treino: 0.0161, Perda de Validação: 0.0160\n",
            "Época [32/500], Perda de Treino: 0.0130, Perda de Validação: 0.0152\n",
            "Época [33/500], Perda de Treino: 0.0124, Perda de Validação: 0.0144\n",
            "Época [34/500], Perda de Treino: 0.0113, Perda de Validação: 0.0136\n",
            "Época [35/500], Perda de Treino: 0.0161, Perda de Validação: 0.0128\n",
            "Época [36/500], Perda de Treino: 0.0129, Perda de Validação: 0.0122\n",
            "Época [37/500], Perda de Treino: 0.0131, Perda de Validação: 0.0115\n",
            "Época [38/500], Perda de Treino: 0.0118, Perda de Validação: 0.0109\n",
            "Época [39/500], Perda de Treino: 0.0099, Perda de Validação: 0.0103\n",
            "Época [40/500], Perda de Treino: 0.0098, Perda de Validação: 0.0098\n",
            "Época [41/500], Perda de Treino: 0.0088, Perda de Validação: 0.0093\n",
            "Época [42/500], Perda de Treino: 0.0086, Perda de Validação: 0.0088\n",
            "Época [43/500], Perda de Treino: 0.0070, Perda de Validação: 0.0083\n",
            "Época [44/500], Perda de Treino: 0.0061, Perda de Validação: 0.0079\n",
            "Época [45/500], Perda de Treino: 0.0075, Perda de Validação: 0.0075\n",
            "Época [46/500], Perda de Treino: 0.0092, Perda de Validação: 0.0071\n",
            "Época [47/500], Perda de Treino: 0.0055, Perda de Validação: 0.0068\n",
            "Época [48/500], Perda de Treino: 0.0082, Perda de Validação: 0.0064\n",
            "Época [49/500], Perda de Treino: 0.0079, Perda de Validação: 0.0061\n",
            "Época [50/500], Perda de Treino: 0.0055, Perda de Validação: 0.0058\n",
            "Época [51/500], Perda de Treino: 0.0061, Perda de Validação: 0.0055\n",
            "Época [52/500], Perda de Treino: 0.0051, Perda de Validação: 0.0053\n",
            "Época [53/500], Perda de Treino: 0.0037, Perda de Validação: 0.0050\n",
            "Época [54/500], Perda de Treino: 0.0041, Perda de Validação: 0.0048\n",
            "Época [55/500], Perda de Treino: 0.0038, Perda de Validação: 0.0045\n",
            "Época [56/500], Perda de Treino: 0.0037, Perda de Validação: 0.0043\n",
            "Época [57/500], Perda de Treino: 0.0048, Perda de Validação: 0.0041\n",
            "Época [58/500], Perda de Treino: 0.0044, Perda de Validação: 0.0039\n",
            "Época [59/500], Perda de Treino: 0.0051, Perda de Validação: 0.0038\n",
            "Época [60/500], Perda de Treino: 0.0031, Perda de Validação: 0.0036\n",
            "Época [61/500], Perda de Treino: 0.0038, Perda de Validação: 0.0034\n",
            "Época [62/500], Perda de Treino: 0.0045, Perda de Validação: 0.0033\n",
            "Época [63/500], Perda de Treino: 0.0040, Perda de Validação: 0.0031\n",
            "Época [64/500], Perda de Treino: 0.0027, Perda de Validação: 0.0030\n",
            "Época [65/500], Perda de Treino: 0.0040, Perda de Validação: 0.0029\n",
            "Época [66/500], Perda de Treino: 0.0028, Perda de Validação: 0.0028\n",
            "Época [67/500], Perda de Treino: 0.0029, Perda de Validação: 0.0027\n",
            "Época [68/500], Perda de Treino: 0.0019, Perda de Validação: 0.0026\n",
            "Época [69/500], Perda de Treino: 0.0032, Perda de Validação: 0.0025\n",
            "Época [70/500], Perda de Treino: 0.0020, Perda de Validação: 0.0024\n",
            "Época [71/500], Perda de Treino: 0.0023, Perda de Validação: 0.0023\n",
            "Época [72/500], Perda de Treino: 0.0021, Perda de Validação: 0.0022\n",
            "Época [73/500], Perda de Treino: 0.0024, Perda de Validação: 0.0021\n",
            "Época [74/500], Perda de Treino: 0.0016, Perda de Validação: 0.0020\n",
            "Época [75/500], Perda de Treino: 0.0014, Perda de Validação: 0.0020\n",
            "Época [76/500], Perda de Treino: 0.0023, Perda de Validação: 0.0019\n",
            "Época [77/500], Perda de Treino: 0.0012, Perda de Validação: 0.0019\n",
            "Época [78/500], Perda de Treino: 0.0014, Perda de Validação: 0.0018\n",
            "Época [79/500], Perda de Treino: 0.0024, Perda de Validação: 0.0017\n",
            "Época [80/500], Perda de Treino: 0.0021, Perda de Validação: 0.0017\n",
            "Época [81/500], Perda de Treino: 0.0018, Perda de Validação: 0.0016\n",
            "Época [82/500], Perda de Treino: 0.0015, Perda de Validação: 0.0016\n",
            "Época [83/500], Perda de Treino: 0.0016, Perda de Validação: 0.0015\n",
            "Época [84/500], Perda de Treino: 0.0011, Perda de Validação: 0.0015\n",
            "Época [85/500], Perda de Treino: 0.0012, Perda de Validação: 0.0015\n",
            "Época [86/500], Perda de Treino: 0.0015, Perda de Validação: 0.0014\n",
            "Época [87/500], Perda de Treino: 0.0010, Perda de Validação: 0.0014\n",
            "Época [88/500], Perda de Treino: 0.0009, Perda de Validação: 0.0014\n",
            "Época [89/500], Perda de Treino: 0.0012, Perda de Validação: 0.0013\n",
            "Época [90/500], Perda de Treino: 0.0010, Perda de Validação: 0.0013\n",
            "Época [91/500], Perda de Treino: 0.0016, Perda de Validação: 0.0013\n",
            "Época [92/500], Perda de Treino: 0.0013, Perda de Validação: 0.0013\n",
            "Época [93/500], Perda de Treino: 0.0011, Perda de Validação: 0.0012\n",
            "Época [94/500], Perda de Treino: 0.0012, Perda de Validação: 0.0012\n",
            "Época [95/500], Perda de Treino: 0.0011, Perda de Validação: 0.0012\n",
            "Época [96/500], Perda de Treino: 0.0009, Perda de Validação: 0.0012\n",
            "Época [97/500], Perda de Treino: 0.0012, Perda de Validação: 0.0011\n",
            "Época [98/500], Perda de Treino: 0.0019, Perda de Validação: 0.0011\n",
            "Época [99/500], Perda de Treino: 0.0011, Perda de Validação: 0.0011\n",
            "Época [100/500], Perda de Treino: 0.0010, Perda de Validação: 0.0011\n",
            "Época [101/500], Perda de Treino: 0.0009, Perda de Validação: 0.0011\n",
            "Época [102/500], Perda de Treino: 0.0012, Perda de Validação: 0.0011\n",
            "Época [103/500], Perda de Treino: 0.0008, Perda de Validação: 0.0010\n",
            "Época [104/500], Perda de Treino: 0.0010, Perda de Validação: 0.0010\n",
            "Época [105/500], Perda de Treino: 0.0013, Perda de Validação: 0.0010\n",
            "Época [106/500], Perda de Treino: 0.0009, Perda de Validação: 0.0010\n",
            "Época [107/500], Perda de Treino: 0.0012, Perda de Validação: 0.0010\n",
            "Época [108/500], Perda de Treino: 0.0007, Perda de Validação: 0.0010\n",
            "Época [109/500], Perda de Treino: 0.0014, Perda de Validação: 0.0010\n",
            "Época [110/500], Perda de Treino: 0.0009, Perda de Validação: 0.0010\n",
            "Época [111/500], Perda de Treino: 0.0012, Perda de Validação: 0.0010\n",
            "Época [112/500], Perda de Treino: 0.0009, Perda de Validação: 0.0009\n",
            "Época [113/500], Perda de Treino: 0.0014, Perda de Validação: 0.0009\n",
            "Época [114/500], Perda de Treino: 0.0011, Perda de Validação: 0.0009\n",
            "Época [115/500], Perda de Treino: 0.0008, Perda de Validação: 0.0009\n",
            "Época [116/500], Perda de Treino: 0.0008, Perda de Validação: 0.0009\n",
            "Época [117/500], Perda de Treino: 0.0010, Perda de Validação: 0.0009\n",
            "Época [118/500], Perda de Treino: 0.0007, Perda de Validação: 0.0009\n",
            "Época [119/500], Perda de Treino: 0.0011, Perda de Validação: 0.0009\n",
            "Época [120/500], Perda de Treino: 0.0009, Perda de Validação: 0.0009\n",
            "Época [121/500], Perda de Treino: 0.0010, Perda de Validação: 0.0009\n",
            "Época [122/500], Perda de Treino: 0.0008, Perda de Validação: 0.0009\n",
            "Época [123/500], Perda de Treino: 0.0009, Perda de Validação: 0.0009\n",
            "Época [124/500], Perda de Treino: 0.0008, Perda de Validação: 0.0009\n",
            "Época [125/500], Perda de Treino: 0.0009, Perda de Validação: 0.0009\n",
            "Época [126/500], Perda de Treino: 0.0009, Perda de Validação: 0.0009\n",
            "Época [127/500], Perda de Treino: 0.0013, Perda de Validação: 0.0009\n",
            "Época [128/500], Perda de Treino: 0.0009, Perda de Validação: 0.0009\n",
            "Época [129/500], Perda de Treino: 0.0009, Perda de Validação: 0.0009\n",
            "Época [130/500], Perda de Treino: 0.0009, Perda de Validação: 0.0009\n",
            "Época [131/500], Perda de Treino: 0.0008, Perda de Validação: 0.0009\n",
            "Época [132/500], Perda de Treino: 0.0008, Perda de Validação: 0.0009\n",
            "Época [133/500], Perda de Treino: 0.0008, Perda de Validação: 0.0008\n",
            "Época [134/500], Perda de Treino: 0.0008, Perda de Validação: 0.0008\n",
            "Época [135/500], Perda de Treino: 0.0008, Perda de Validação: 0.0008\n",
            "Época [136/500], Perda de Treino: 0.0009, Perda de Validação: 0.0008\n",
            "Época [137/500], Perda de Treino: 0.0010, Perda de Validação: 0.0008\n",
            "Época [138/500], Perda de Treino: 0.0007, Perda de Validação: 0.0008\n",
            "Época [139/500], Perda de Treino: 0.0010, Perda de Validação: 0.0008\n",
            "Época [140/500], Perda de Treino: 0.0007, Perda de Validação: 0.0008\n",
            "Época [141/500], Perda de Treino: 0.0011, Perda de Validação: 0.0008\n",
            "Época [142/500], Perda de Treino: 0.0008, Perda de Validação: 0.0008\n",
            "Época [143/500], Perda de Treino: 0.0010, Perda de Validação: 0.0008\n",
            "Época [144/500], Perda de Treino: 0.0009, Perda de Validação: 0.0008\n",
            "Época [145/500], Perda de Treino: 0.0011, Perda de Validação: 0.0008\n",
            "Época [146/500], Perda de Treino: 0.0008, Perda de Validação: 0.0008\n",
            "Época [147/500], Perda de Treino: 0.0010, Perda de Validação: 0.0008\n",
            "Época [148/500], Perda de Treino: 0.0009, Perda de Validação: 0.0008\n",
            "Época [149/500], Perda de Treino: 0.0008, Perda de Validação: 0.0008\n",
            "Época [150/500], Perda de Treino: 0.0007, Perda de Validação: 0.0008\n",
            "Época [151/500], Perda de Treino: 0.0007, Perda de Validação: 0.0008\n",
            "Época [152/500], Perda de Treino: 0.0006, Perda de Validação: 0.0008\n",
            "Época [153/500], Perda de Treino: 0.0007, Perda de Validação: 0.0008\n",
            "Época [154/500], Perda de Treino: 0.0009, Perda de Validação: 0.0008\n",
            "Época [155/500], Perda de Treino: 0.0007, Perda de Validação: 0.0008\n",
            "Época [156/500], Perda de Treino: 0.0010, Perda de Validação: 0.0008\n",
            "Época [157/500], Perda de Treino: 0.0008, Perda de Validação: 0.0008\n",
            "Época [158/500], Perda de Treino: 0.0011, Perda de Validação: 0.0008\n",
            "Época [159/500], Perda de Treino: 0.0008, Perda de Validação: 0.0008\n",
            "Época [160/500], Perda de Treino: 0.0009, Perda de Validação: 0.0008\n",
            "Época [161/500], Perda de Treino: 0.0008, Perda de Validação: 0.0008\n",
            "Época [162/500], Perda de Treino: 0.0006, Perda de Validação: 0.0008\n",
            "Época [163/500], Perda de Treino: 0.0009, Perda de Validação: 0.0008\n",
            "Época [164/500], Perda de Treino: 0.0009, Perda de Validação: 0.0008\n",
            "Época [165/500], Perda de Treino: 0.0008, Perda de Validação: 0.0008\n",
            "Época [166/500], Perda de Treino: 0.0007, Perda de Validação: 0.0008\n",
            "Época [167/500], Perda de Treino: 0.0008, Perda de Validação: 0.0008\n",
            "Época [168/500], Perda de Treino: 0.0008, Perda de Validação: 0.0008\n",
            "Época [169/500], Perda de Treino: 0.0008, Perda de Validação: 0.0008\n",
            "Época [170/500], Perda de Treino: 0.0009, Perda de Validação: 0.0008\n",
            "Época [171/500], Perda de Treino: 0.0008, Perda de Validação: 0.0008\n",
            "Época [172/500], Perda de Treino: 0.0008, Perda de Validação: 0.0008\n",
            "Época [173/500], Perda de Treino: 0.0009, Perda de Validação: 0.0008\n",
            "Época [174/500], Perda de Treino: 0.0008, Perda de Validação: 0.0008\n",
            "Época [175/500], Perda de Treino: 0.0010, Perda de Validação: 0.0008\n",
            "Época [176/500], Perda de Treino: 0.0006, Perda de Validação: 0.0008\n",
            "Época [177/500], Perda de Treino: 0.0009, Perda de Validação: 0.0008\n",
            "Época [178/500], Perda de Treino: 0.0008, Perda de Validação: 0.0008\n",
            "Época [179/500], Perda de Treino: 0.0007, Perda de Validação: 0.0008\n",
            "Época [180/500], Perda de Treino: 0.0008, Perda de Validação: 0.0008\n",
            "Época [181/500], Perda de Treino: 0.0007, Perda de Validação: 0.0008\n",
            "Época [182/500], Perda de Treino: 0.0007, Perda de Validação: 0.0008\n",
            "Época [183/500], Perda de Treino: 0.0011, Perda de Validação: 0.0008\n",
            "Época [184/500], Perda de Treino: 0.0010, Perda de Validação: 0.0008\n",
            "Época [185/500], Perda de Treino: 0.0008, Perda de Validação: 0.0008\n",
            "Época [186/500], Perda de Treino: 0.0009, Perda de Validação: 0.0008\n",
            "Época [187/500], Perda de Treino: 0.0008, Perda de Validação: 0.0008\n",
            "Época [188/500], Perda de Treino: 0.0008, Perda de Validação: 0.0008\n",
            "Época [189/500], Perda de Treino: 0.0007, Perda de Validação: 0.0008\n",
            "Época [190/500], Perda de Treino: 0.0007, Perda de Validação: 0.0008\n",
            "Época [191/500], Perda de Treino: 0.0009, Perda de Validação: 0.0008\n",
            "Época [192/500], Perda de Treino: 0.0010, Perda de Validação: 0.0008\n",
            "Época [193/500], Perda de Treino: 0.0009, Perda de Validação: 0.0008\n",
            "Época [194/500], Perda de Treino: 0.0010, Perda de Validação: 0.0008\n",
            "Época [195/500], Perda de Treino: 0.0008, Perda de Validação: 0.0008\n",
            "Época [196/500], Perda de Treino: 0.0007, Perda de Validação: 0.0008\n",
            "Época [197/500], Perda de Treino: 0.0008, Perda de Validação: 0.0008\n",
            "Época [198/500], Perda de Treino: 0.0008, Perda de Validação: 0.0008\n",
            "Época [199/500], Perda de Treino: 0.0006, Perda de Validação: 0.0008\n",
            "Época [200/500], Perda de Treino: 0.0011, Perda de Validação: 0.0008\n",
            "Época [201/500], Perda de Treino: 0.0008, Perda de Validação: 0.0008\n",
            "Época [202/500], Perda de Treino: 0.0006, Perda de Validação: 0.0008\n",
            "Época [203/500], Perda de Treino: 0.0008, Perda de Validação: 0.0008\n",
            "Época [204/500], Perda de Treino: 0.0008, Perda de Validação: 0.0008\n",
            "Época [205/500], Perda de Treino: 0.0008, Perda de Validação: 0.0008\n",
            "Época [206/500], Perda de Treino: 0.0008, Perda de Validação: 0.0008\n",
            "Época [207/500], Perda de Treino: 0.0007, Perda de Validação: 0.0008\n",
            "Época [208/500], Perda de Treino: 0.0008, Perda de Validação: 0.0008\n",
            "Época [209/500], Perda de Treino: 0.0005, Perda de Validação: 0.0008\n",
            "Época [210/500], Perda de Treino: 0.0006, Perda de Validação: 0.0008\n",
            "Época [211/500], Perda de Treino: 0.0007, Perda de Validação: 0.0008\n",
            "Época [212/500], Perda de Treino: 0.0010, Perda de Validação: 0.0008\n",
            "Época [213/500], Perda de Treino: 0.0006, Perda de Validação: 0.0008\n",
            "Época [214/500], Perda de Treino: 0.0007, Perda de Validação: 0.0008\n",
            "Época [215/500], Perda de Treino: 0.0007, Perda de Validação: 0.0008\n",
            "Época [216/500], Perda de Treino: 0.0007, Perda de Validação: 0.0008\n",
            "Época [217/500], Perda de Treino: 0.0006, Perda de Validação: 0.0008\n",
            "Época [218/500], Perda de Treino: 0.0008, Perda de Validação: 0.0008\n",
            "Época [219/500], Perda de Treino: 0.0008, Perda de Validação: 0.0008\n",
            "Época [220/500], Perda de Treino: 0.0009, Perda de Validação: 0.0008\n",
            "Época [221/500], Perda de Treino: 0.0007, Perda de Validação: 0.0008\n",
            "Época [222/500], Perda de Treino: 0.0005, Perda de Validação: 0.0008\n",
            "Época [223/500], Perda de Treino: 0.0009, Perda de Validação: 0.0008\n",
            "Época [224/500], Perda de Treino: 0.0008, Perda de Validação: 0.0008\n",
            "Época [225/500], Perda de Treino: 0.0007, Perda de Validação: 0.0008\n",
            "Época [226/500], Perda de Treino: 0.0007, Perda de Validação: 0.0008\n",
            "Época [227/500], Perda de Treino: 0.0009, Perda de Validação: 0.0008\n",
            "Época [228/500], Perda de Treino: 0.0007, Perda de Validação: 0.0008\n",
            "Época [229/500], Perda de Treino: 0.0007, Perda de Validação: 0.0008\n",
            "Época [230/500], Perda de Treino: 0.0008, Perda de Validação: 0.0008\n",
            "Época [231/500], Perda de Treino: 0.0006, Perda de Validação: 0.0008\n",
            "Época [232/500], Perda de Treino: 0.0006, Perda de Validação: 0.0008\n",
            "Época [233/500], Perda de Treino: 0.0009, Perda de Validação: 0.0008\n",
            "Época [234/500], Perda de Treino: 0.0007, Perda de Validação: 0.0008\n",
            "Época [235/500], Perda de Treino: 0.0010, Perda de Validação: 0.0008\n",
            "Época [236/500], Perda de Treino: 0.0008, Perda de Validação: 0.0008\n",
            "Época [237/500], Perda de Treino: 0.0009, Perda de Validação: 0.0008\n",
            "Época [238/500], Perda de Treino: 0.0007, Perda de Validação: 0.0008\n",
            "Época [239/500], Perda de Treino: 0.0009, Perda de Validação: 0.0008\n",
            "Época [240/500], Perda de Treino: 0.0010, Perda de Validação: 0.0008\n",
            "Época [241/500], Perda de Treino: 0.0007, Perda de Validação: 0.0008\n",
            "Época [242/500], Perda de Treino: 0.0009, Perda de Validação: 0.0008\n",
            "Época [243/500], Perda de Treino: 0.0010, Perda de Validação: 0.0008\n",
            "Época [244/500], Perda de Treino: 0.0010, Perda de Validação: 0.0008\n",
            "Época [245/500], Perda de Treino: 0.0007, Perda de Validação: 0.0008\n",
            "Época [246/500], Perda de Treino: 0.0006, Perda de Validação: 0.0008\n",
            "Época [247/500], Perda de Treino: 0.0007, Perda de Validação: 0.0008\n",
            "Época [248/500], Perda de Treino: 0.0010, Perda de Validação: 0.0008\n",
            "Época [249/500], Perda de Treino: 0.0009, Perda de Validação: 0.0008\n",
            "Época [250/500], Perda de Treino: 0.0009, Perda de Validação: 0.0008\n",
            "Época [251/500], Perda de Treino: 0.0009, Perda de Validação: 0.0008\n",
            "Época [252/500], Perda de Treino: 0.0011, Perda de Validação: 0.0008\n",
            "Época [253/500], Perda de Treino: 0.0009, Perda de Validação: 0.0008\n",
            "Época [254/500], Perda de Treino: 0.0009, Perda de Validação: 0.0008\n",
            "Época [255/500], Perda de Treino: 0.0007, Perda de Validação: 0.0008\n",
            "Época [256/500], Perda de Treino: 0.0004, Perda de Validação: 0.0008\n",
            "Época [257/500], Perda de Treino: 0.0010, Perda de Validação: 0.0008\n",
            "Época [258/500], Perda de Treino: 0.0007, Perda de Validação: 0.0008\n",
            "Época [259/500], Perda de Treino: 0.0010, Perda de Validação: 0.0008\n",
            "Época [260/500], Perda de Treino: 0.0009, Perda de Validação: 0.0008\n",
            "Época [261/500], Perda de Treino: 0.0008, Perda de Validação: 0.0008\n",
            "Época [262/500], Perda de Treino: 0.0010, Perda de Validação: 0.0008\n",
            "Época [263/500], Perda de Treino: 0.0011, Perda de Validação: 0.0008\n",
            "Época [264/500], Perda de Treino: 0.0010, Perda de Validação: 0.0008\n",
            "Época [265/500], Perda de Treino: 0.0009, Perda de Validação: 0.0008\n",
            "Época [266/500], Perda de Treino: 0.0007, Perda de Validação: 0.0008\n",
            "Época [267/500], Perda de Treino: 0.0007, Perda de Validação: 0.0008\n",
            "Época [268/500], Perda de Treino: 0.0007, Perda de Validação: 0.0008\n",
            "Época [269/500], Perda de Treino: 0.0008, Perda de Validação: 0.0008\n",
            "Época [270/500], Perda de Treino: 0.0008, Perda de Validação: 0.0008\n",
            "Época [271/500], Perda de Treino: 0.0007, Perda de Validação: 0.0008\n",
            "Época [272/500], Perda de Treino: 0.0009, Perda de Validação: 0.0008\n",
            "Época [273/500], Perda de Treino: 0.0009, Perda de Validação: 0.0008\n",
            "Época [274/500], Perda de Treino: 0.0009, Perda de Validação: 0.0008\n",
            "Época [275/500], Perda de Treino: 0.0007, Perda de Validação: 0.0008\n",
            "Época [276/500], Perda de Treino: 0.0006, Perda de Validação: 0.0008\n",
            "Época [277/500], Perda de Treino: 0.0008, Perda de Validação: 0.0008\n",
            "Época [278/500], Perda de Treino: 0.0006, Perda de Validação: 0.0008\n",
            "Época [279/500], Perda de Treino: 0.0010, Perda de Validação: 0.0008\n",
            "Época [280/500], Perda de Treino: 0.0008, Perda de Validação: 0.0008\n",
            "Época [281/500], Perda de Treino: 0.0009, Perda de Validação: 0.0008\n",
            "Época [282/500], Perda de Treino: 0.0008, Perda de Validação: 0.0008\n",
            "Época [283/500], Perda de Treino: 0.0008, Perda de Validação: 0.0008\n",
            "Época [284/500], Perda de Treino: 0.0010, Perda de Validação: 0.0008\n",
            "Época [285/500], Perda de Treino: 0.0009, Perda de Validação: 0.0008\n",
            "Época [286/500], Perda de Treino: 0.0007, Perda de Validação: 0.0008\n",
            "Época [287/500], Perda de Treino: 0.0008, Perda de Validação: 0.0008\n",
            "Época [288/500], Perda de Treino: 0.0006, Perda de Validação: 0.0008\n",
            "Época [289/500], Perda de Treino: 0.0010, Perda de Validação: 0.0008\n",
            "Época [290/500], Perda de Treino: 0.0010, Perda de Validação: 0.0008\n",
            "Época [291/500], Perda de Treino: 0.0007, Perda de Validação: 0.0008\n",
            "Época [292/500], Perda de Treino: 0.0006, Perda de Validação: 0.0008\n",
            "Época [293/500], Perda de Treino: 0.0010, Perda de Validação: 0.0008\n",
            "Época [294/500], Perda de Treino: 0.0008, Perda de Validação: 0.0008\n",
            "Época [295/500], Perda de Treino: 0.0011, Perda de Validação: 0.0008\n",
            "Época [296/500], Perda de Treino: 0.0008, Perda de Validação: 0.0008\n",
            "Época [297/500], Perda de Treino: 0.0010, Perda de Validação: 0.0008\n",
            "Época [298/500], Perda de Treino: 0.0011, Perda de Validação: 0.0008\n",
            "Época [299/500], Perda de Treino: 0.0007, Perda de Validação: 0.0008\n",
            "Época [300/500], Perda de Treino: 0.0007, Perda de Validação: 0.0008\n",
            "Época [301/500], Perda de Treino: 0.0008, Perda de Validação: 0.0008\n",
            "Época [302/500], Perda de Treino: 0.0010, Perda de Validação: 0.0008\n",
            "Época [303/500], Perda de Treino: 0.0008, Perda de Validação: 0.0008\n",
            "Época [304/500], Perda de Treino: 0.0007, Perda de Validação: 0.0008\n",
            "Época [305/500], Perda de Treino: 0.0008, Perda de Validação: 0.0008\n",
            "Época [306/500], Perda de Treino: 0.0009, Perda de Validação: 0.0008\n",
            "Época [307/500], Perda de Treino: 0.0008, Perda de Validação: 0.0008\n",
            "Época [308/500], Perda de Treino: 0.0008, Perda de Validação: 0.0008\n",
            "Época [309/500], Perda de Treino: 0.0008, Perda de Validação: 0.0008\n",
            "Época [310/500], Perda de Treino: 0.0007, Perda de Validação: 0.0008\n",
            "Época [311/500], Perda de Treino: 0.0006, Perda de Validação: 0.0008\n",
            "Época [312/500], Perda de Treino: 0.0009, Perda de Validação: 0.0008\n",
            "Época [313/500], Perda de Treino: 0.0008, Perda de Validação: 0.0008\n",
            "Época [314/500], Perda de Treino: 0.0009, Perda de Validação: 0.0008\n",
            "Época [315/500], Perda de Treino: 0.0006, Perda de Validação: 0.0008\n",
            "Época [316/500], Perda de Treino: 0.0009, Perda de Validação: 0.0008\n",
            "Época [317/500], Perda de Treino: 0.0007, Perda de Validação: 0.0008\n",
            "Época [318/500], Perda de Treino: 0.0009, Perda de Validação: 0.0008\n",
            "Época [319/500], Perda de Treino: 0.0011, Perda de Validação: 0.0008\n",
            "Época [320/500], Perda de Treino: 0.0009, Perda de Validação: 0.0008\n",
            "Época [321/500], Perda de Treino: 0.0010, Perda de Validação: 0.0008\n",
            "Época [322/500], Perda de Treino: 0.0009, Perda de Validação: 0.0008\n",
            "Época [323/500], Perda de Treino: 0.0006, Perda de Validação: 0.0008\n",
            "Época [324/500], Perda de Treino: 0.0008, Perda de Validação: 0.0008\n",
            "Época [325/500], Perda de Treino: 0.0008, Perda de Validação: 0.0008\n",
            "Época [326/500], Perda de Treino: 0.0007, Perda de Validação: 0.0008\n",
            "Época [327/500], Perda de Treino: 0.0006, Perda de Validação: 0.0008\n",
            "Época [328/500], Perda de Treino: 0.0009, Perda de Validação: 0.0008\n",
            "Época [329/500], Perda de Treino: 0.0007, Perda de Validação: 0.0008\n",
            "Época [330/500], Perda de Treino: 0.0005, Perda de Validação: 0.0008\n",
            "Época [331/500], Perda de Treino: 0.0008, Perda de Validação: 0.0008\n",
            "Época [332/500], Perda de Treino: 0.0009, Perda de Validação: 0.0008\n",
            "Época [333/500], Perda de Treino: 0.0007, Perda de Validação: 0.0008\n",
            "Época [334/500], Perda de Treino: 0.0010, Perda de Validação: 0.0008\n",
            "Época [335/500], Perda de Treino: 0.0008, Perda de Validação: 0.0008\n",
            "Época [336/500], Perda de Treino: 0.0011, Perda de Validação: 0.0008\n",
            "Época [337/500], Perda de Treino: 0.0007, Perda de Validação: 0.0008\n",
            "Época [338/500], Perda de Treino: 0.0009, Perda de Validação: 0.0008\n",
            "Época [339/500], Perda de Treino: 0.0009, Perda de Validação: 0.0008\n",
            "Época [340/500], Perda de Treino: 0.0007, Perda de Validação: 0.0008\n",
            "Época [341/500], Perda de Treino: 0.0008, Perda de Validação: 0.0008\n",
            "Época [342/500], Perda de Treino: 0.0008, Perda de Validação: 0.0008\n",
            "Época [343/500], Perda de Treino: 0.0006, Perda de Validação: 0.0008\n",
            "Época [344/500], Perda de Treino: 0.0007, Perda de Validação: 0.0008\n",
            "Época [345/500], Perda de Treino: 0.0008, Perda de Validação: 0.0008\n",
            "Época [346/500], Perda de Treino: 0.0010, Perda de Validação: 0.0008\n",
            "Época [347/500], Perda de Treino: 0.0007, Perda de Validação: 0.0008\n",
            "Época [348/500], Perda de Treino: 0.0007, Perda de Validação: 0.0008\n",
            "Época [349/500], Perda de Treino: 0.0008, Perda de Validação: 0.0008\n",
            "Época [350/500], Perda de Treino: 0.0008, Perda de Validação: 0.0008\n",
            "Época [351/500], Perda de Treino: 0.0008, Perda de Validação: 0.0008\n",
            "Época [352/500], Perda de Treino: 0.0010, Perda de Validação: 0.0008\n",
            "Época [353/500], Perda de Treino: 0.0007, Perda de Validação: 0.0008\n",
            "Época [354/500], Perda de Treino: 0.0007, Perda de Validação: 0.0008\n",
            "Época [355/500], Perda de Treino: 0.0008, Perda de Validação: 0.0008\n",
            "Época [356/500], Perda de Treino: 0.0009, Perda de Validação: 0.0008\n",
            "Época [357/500], Perda de Treino: 0.0008, Perda de Validação: 0.0008\n",
            "Época [358/500], Perda de Treino: 0.0008, Perda de Validação: 0.0008\n",
            "Época [359/500], Perda de Treino: 0.0006, Perda de Validação: 0.0008\n",
            "Época [360/500], Perda de Treino: 0.0009, Perda de Validação: 0.0008\n",
            "Época [361/500], Perda de Treino: 0.0009, Perda de Validação: 0.0008\n",
            "Época [362/500], Perda de Treino: 0.0009, Perda de Validação: 0.0008\n",
            "Época [363/500], Perda de Treino: 0.0008, Perda de Validação: 0.0008\n",
            "Época [364/500], Perda de Treino: 0.0008, Perda de Validação: 0.0008\n",
            "Época [365/500], Perda de Treino: 0.0011, Perda de Validação: 0.0008\n",
            "Época [366/500], Perda de Treino: 0.0009, Perda de Validação: 0.0008\n",
            "Época [367/500], Perda de Treino: 0.0009, Perda de Validação: 0.0008\n",
            "Época [368/500], Perda de Treino: 0.0008, Perda de Validação: 0.0008\n",
            "Época [369/500], Perda de Treino: 0.0010, Perda de Validação: 0.0008\n",
            "Época [370/500], Perda de Treino: 0.0008, Perda de Validação: 0.0008\n",
            "Época [371/500], Perda de Treino: 0.0006, Perda de Validação: 0.0008\n",
            "Época [372/500], Perda de Treino: 0.0006, Perda de Validação: 0.0008\n",
            "Época [373/500], Perda de Treino: 0.0007, Perda de Validação: 0.0008\n",
            "Época [374/500], Perda de Treino: 0.0006, Perda de Validação: 0.0008\n",
            "Época [375/500], Perda de Treino: 0.0008, Perda de Validação: 0.0008\n",
            "Época [376/500], Perda de Treino: 0.0008, Perda de Validação: 0.0008\n",
            "Época [377/500], Perda de Treino: 0.0007, Perda de Validação: 0.0008\n",
            "Época [378/500], Perda de Treino: 0.0008, Perda de Validação: 0.0008\n",
            "Época [379/500], Perda de Treino: 0.0007, Perda de Validação: 0.0008\n",
            "Época [380/500], Perda de Treino: 0.0009, Perda de Validação: 0.0008\n",
            "Época [381/500], Perda de Treino: 0.0008, Perda de Validação: 0.0008\n",
            "Época [382/500], Perda de Treino: 0.0009, Perda de Validação: 0.0008\n",
            "Época [383/500], Perda de Treino: 0.0010, Perda de Validação: 0.0008\n",
            "Época [384/500], Perda de Treino: 0.0009, Perda de Validação: 0.0008\n",
            "Época [385/500], Perda de Treino: 0.0007, Perda de Validação: 0.0008\n",
            "Época [386/500], Perda de Treino: 0.0007, Perda de Validação: 0.0008\n",
            "Época [387/500], Perda de Treino: 0.0006, Perda de Validação: 0.0008\n",
            "Época [388/500], Perda de Treino: 0.0007, Perda de Validação: 0.0008\n",
            "Época [389/500], Perda de Treino: 0.0009, Perda de Validação: 0.0008\n",
            "Época [390/500], Perda de Treino: 0.0008, Perda de Validação: 0.0008\n",
            "Época [391/500], Perda de Treino: 0.0009, Perda de Validação: 0.0008\n",
            "Época [392/500], Perda de Treino: 0.0009, Perda de Validação: 0.0008\n",
            "Época [393/500], Perda de Treino: 0.0009, Perda de Validação: 0.0008\n",
            "Época [394/500], Perda de Treino: 0.0007, Perda de Validação: 0.0008\n",
            "Época [395/500], Perda de Treino: 0.0007, Perda de Validação: 0.0008\n",
            "Época [396/500], Perda de Treino: 0.0010, Perda de Validação: 0.0008\n",
            "Época [397/500], Perda de Treino: 0.0007, Perda de Validação: 0.0008\n",
            "Época [398/500], Perda de Treino: 0.0008, Perda de Validação: 0.0008\n",
            "Época [399/500], Perda de Treino: 0.0009, Perda de Validação: 0.0008\n",
            "Época [400/500], Perda de Treino: 0.0008, Perda de Validação: 0.0008\n",
            "Época [401/500], Perda de Treino: 0.0008, Perda de Validação: 0.0008\n",
            "Época [402/500], Perda de Treino: 0.0008, Perda de Validação: 0.0008\n",
            "Época [403/500], Perda de Treino: 0.0008, Perda de Validação: 0.0008\n",
            "Época [404/500], Perda de Treino: 0.0007, Perda de Validação: 0.0008\n",
            "Época [405/500], Perda de Treino: 0.0008, Perda de Validação: 0.0008\n",
            "Época [406/500], Perda de Treino: 0.0005, Perda de Validação: 0.0008\n",
            "Época [407/500], Perda de Treino: 0.0010, Perda de Validação: 0.0008\n",
            "Época [408/500], Perda de Treino: 0.0006, Perda de Validação: 0.0008\n",
            "Época [409/500], Perda de Treino: 0.0010, Perda de Validação: 0.0008\n",
            "Época [410/500], Perda de Treino: 0.0007, Perda de Validação: 0.0008\n",
            "Época [411/500], Perda de Treino: 0.0006, Perda de Validação: 0.0008\n",
            "Época [412/500], Perda de Treino: 0.0008, Perda de Validação: 0.0008\n",
            "Época [413/500], Perda de Treino: 0.0010, Perda de Validação: 0.0008\n",
            "Época [414/500], Perda de Treino: 0.0010, Perda de Validação: 0.0008\n",
            "Época [415/500], Perda de Treino: 0.0008, Perda de Validação: 0.0008\n",
            "Época [416/500], Perda de Treino: 0.0009, Perda de Validação: 0.0008\n",
            "Época [417/500], Perda de Treino: 0.0009, Perda de Validação: 0.0008\n",
            "Época [418/500], Perda de Treino: 0.0006, Perda de Validação: 0.0008\n",
            "Época [419/500], Perda de Treino: 0.0007, Perda de Validação: 0.0008\n",
            "Época [420/500], Perda de Treino: 0.0007, Perda de Validação: 0.0008\n",
            "Época [421/500], Perda de Treino: 0.0008, Perda de Validação: 0.0008\n",
            "Época [422/500], Perda de Treino: 0.0011, Perda de Validação: 0.0008\n",
            "Época [423/500], Perda de Treino: 0.0007, Perda de Validação: 0.0008\n",
            "Época [424/500], Perda de Treino: 0.0008, Perda de Validação: 0.0008\n",
            "Época [425/500], Perda de Treino: 0.0008, Perda de Validação: 0.0008\n",
            "Época [426/500], Perda de Treino: 0.0010, Perda de Validação: 0.0008\n",
            "Época [427/500], Perda de Treino: 0.0010, Perda de Validação: 0.0008\n",
            "Época [428/500], Perda de Treino: 0.0007, Perda de Validação: 0.0008\n",
            "Época [429/500], Perda de Treino: 0.0007, Perda de Validação: 0.0008\n",
            "Época [430/500], Perda de Treino: 0.0010, Perda de Validação: 0.0008\n",
            "Época [431/500], Perda de Treino: 0.0009, Perda de Validação: 0.0008\n",
            "Época [432/500], Perda de Treino: 0.0009, Perda de Validação: 0.0008\n",
            "Época [433/500], Perda de Treino: 0.0008, Perda de Validação: 0.0008\n",
            "Época [434/500], Perda de Treino: 0.0008, Perda de Validação: 0.0008\n",
            "Época [435/500], Perda de Treino: 0.0009, Perda de Validação: 0.0008\n",
            "Época [436/500], Perda de Treino: 0.0008, Perda de Validação: 0.0008\n",
            "Época [437/500], Perda de Treino: 0.0008, Perda de Validação: 0.0008\n",
            "Época [438/500], Perda de Treino: 0.0008, Perda de Validação: 0.0008\n",
            "Época [439/500], Perda de Treino: 0.0008, Perda de Validação: 0.0008\n",
            "Época [440/500], Perda de Treino: 0.0009, Perda de Validação: 0.0008\n",
            "Época [441/500], Perda de Treino: 0.0007, Perda de Validação: 0.0008\n",
            "Época [442/500], Perda de Treino: 0.0010, Perda de Validação: 0.0008\n",
            "Época [443/500], Perda de Treino: 0.0009, Perda de Validação: 0.0008\n",
            "Época [444/500], Perda de Treino: 0.0009, Perda de Validação: 0.0008\n",
            "Época [445/500], Perda de Treino: 0.0007, Perda de Validação: 0.0008\n",
            "Época [446/500], Perda de Treino: 0.0007, Perda de Validação: 0.0008\n",
            "Época [447/500], Perda de Treino: 0.0008, Perda de Validação: 0.0008\n",
            "Época [448/500], Perda de Treino: 0.0006, Perda de Validação: 0.0008\n",
            "Época [449/500], Perda de Treino: 0.0007, Perda de Validação: 0.0008\n",
            "Época [450/500], Perda de Treino: 0.0008, Perda de Validação: 0.0008\n",
            "Época [451/500], Perda de Treino: 0.0008, Perda de Validação: 0.0008\n",
            "Época [452/500], Perda de Treino: 0.0007, Perda de Validação: 0.0008\n",
            "Época [453/500], Perda de Treino: 0.0007, Perda de Validação: 0.0008\n",
            "Época [454/500], Perda de Treino: 0.0010, Perda de Validação: 0.0008\n",
            "Época [455/500], Perda de Treino: 0.0009, Perda de Validação: 0.0008\n",
            "Época [456/500], Perda de Treino: 0.0008, Perda de Validação: 0.0008\n",
            "Época [457/500], Perda de Treino: 0.0009, Perda de Validação: 0.0008\n",
            "Época [458/500], Perda de Treino: 0.0008, Perda de Validação: 0.0008\n",
            "Época [459/500], Perda de Treino: 0.0007, Perda de Validação: 0.0008\n",
            "Época [460/500], Perda de Treino: 0.0005, Perda de Validação: 0.0008\n",
            "Época [461/500], Perda de Treino: 0.0008, Perda de Validação: 0.0008\n",
            "Época [462/500], Perda de Treino: 0.0007, Perda de Validação: 0.0008\n",
            "Época [463/500], Perda de Treino: 0.0009, Perda de Validação: 0.0008\n",
            "Época [464/500], Perda de Treino: 0.0007, Perda de Validação: 0.0008\n",
            "Época [465/500], Perda de Treino: 0.0006, Perda de Validação: 0.0008\n",
            "Época [466/500], Perda de Treino: 0.0008, Perda de Validação: 0.0008\n",
            "Época [467/500], Perda de Treino: 0.0008, Perda de Validação: 0.0008\n",
            "Época [468/500], Perda de Treino: 0.0008, Perda de Validação: 0.0008\n",
            "Época [469/500], Perda de Treino: 0.0007, Perda de Validação: 0.0008\n",
            "Época [470/500], Perda de Treino: 0.0008, Perda de Validação: 0.0008\n",
            "Época [471/500], Perda de Treino: 0.0009, Perda de Validação: 0.0008\n",
            "Época [472/500], Perda de Treino: 0.0009, Perda de Validação: 0.0008\n",
            "Época [473/500], Perda de Treino: 0.0008, Perda de Validação: 0.0008\n",
            "Época [474/500], Perda de Treino: 0.0007, Perda de Validação: 0.0008\n",
            "Época [475/500], Perda de Treino: 0.0008, Perda de Validação: 0.0008\n",
            "Época [476/500], Perda de Treino: 0.0008, Perda de Validação: 0.0008\n",
            "Época [477/500], Perda de Treino: 0.0008, Perda de Validação: 0.0008\n",
            "Época [478/500], Perda de Treino: 0.0007, Perda de Validação: 0.0008\n",
            "Época [479/500], Perda de Treino: 0.0007, Perda de Validação: 0.0008\n",
            "Época [480/500], Perda de Treino: 0.0007, Perda de Validação: 0.0008\n",
            "Época [481/500], Perda de Treino: 0.0006, Perda de Validação: 0.0008\n",
            "Época [482/500], Perda de Treino: 0.0007, Perda de Validação: 0.0008\n",
            "Época [483/500], Perda de Treino: 0.0008, Perda de Validação: 0.0008\n",
            "Época [484/500], Perda de Treino: 0.0010, Perda de Validação: 0.0008\n",
            "Época [485/500], Perda de Treino: 0.0006, Perda de Validação: 0.0008\n",
            "Época [486/500], Perda de Treino: 0.0009, Perda de Validação: 0.0008\n",
            "Época [487/500], Perda de Treino: 0.0010, Perda de Validação: 0.0008\n",
            "Época [488/500], Perda de Treino: 0.0008, Perda de Validação: 0.0008\n",
            "Época [489/500], Perda de Treino: 0.0006, Perda de Validação: 0.0008\n",
            "Época [490/500], Perda de Treino: 0.0007, Perda de Validação: 0.0008\n",
            "Época [491/500], Perda de Treino: 0.0008, Perda de Validação: 0.0008\n",
            "Época [492/500], Perda de Treino: 0.0009, Perda de Validação: 0.0008\n",
            "Época [493/500], Perda de Treino: 0.0006, Perda de Validação: 0.0008\n",
            "Época [494/500], Perda de Treino: 0.0007, Perda de Validação: 0.0008\n",
            "Época [495/500], Perda de Treino: 0.0009, Perda de Validação: 0.0008\n",
            "Época [496/500], Perda de Treino: 0.0009, Perda de Validação: 0.0008\n",
            "Época [497/500], Perda de Treino: 0.0009, Perda de Validação: 0.0008\n",
            "Época [498/500], Perda de Treino: 0.0006, Perda de Validação: 0.0008\n",
            "Época [499/500], Perda de Treino: 0.0007, Perda de Validação: 0.0008\n",
            "Época [500/500], Perda de Treino: 0.0006, Perda de Validação: 0.0008\n",
            "Perda no Conjunto de Teste: 0.0009\n"
          ]
        },
        {
          "output_type": "display_data",
          "data": {
            "text/plain": [
              "<Figure size 640x480 with 1 Axes>"
            ],
            "image/png": "[encoded data removed]"
          },
          "metadata": {}
        }
      ]
    },
    {
      "cell_type": "markdown",
      "source": [
        "Este exemplo:\n",
        "\n",
        "- Gera dados fictícios para uma regressão linear.\n",
        "- Divide os dados em conjuntos de treino, validação e teste.\n",
        "- Cria DataLoader para cada conjunto de dados.\n",
        "- Define um modelo de regressão linear.\n",
        "- Utiliza o Gradiente Descendente Estocástico para treinar o modelo.\n",
        "- Avalia o desempenho do modelo no conjunto de validação.\n",
        "- Testa o modelo no conjunto de teste.\n",
        "- Visualiza os resultados.\n",
        "\n",
        "Os hiperparâmetros podem ser ajustados, como o número de épocas, a taxa de aprendizado, etc., de acordo com as necessidades do seu problema."
      ],
      "metadata": {
        "id": "WgchhH8Agm__"
      },
      "id": "WgchhH8Agm__"
    },
    {
      "cell_type": "markdown",
      "source": [
        "## Semana 3"
      ],
      "metadata": {
        "id": "6gE8DljKVS7a"
      },
      "id": "6gE8DljKVS7a"
    },
    {
      "cell_type": "markdown",
      "source": [
        "### Regressão Linear Multipla"
      ],
      "metadata": {
        "id": "WsrL2LHDVS3R"
      },
      "id": "WsrL2LHDVS3R"
    },
    {
      "cell_type": "markdown",
      "source": [
        "### Regressão Linear de Múltiplas Saídas"
      ],
      "metadata": {
        "id": "89joTJa4VSt3"
      },
      "id": "89joTJa4VSt3"
    },
    {
      "cell_type": "markdown",
      "source": [
        "### Regressão Logística para Classificação"
      ],
      "metadata": {
        "id": "ml8DtfXCVSTP"
      },
      "id": "ml8DtfXCVSTP"
    },
    {
      "cell_type": "markdown",
      "id": "8008dfb8",
      "metadata": {
        "id": "8008dfb8"
      },
      "source": [
        "\n",
        "\n",
        "\n",
        "\n",
        "\n",
        "## Semana 4\n",
        "### Previsão Softmax\n",
        "### Função Softmax\n",
        "### Softmax Pytorch\n",
        "### Redes Neurais Rasas\n",
        "\n"
      ]
    },
    {
      "cell_type": "markdown",
      "source": [
        "## Semana 5"
      ],
      "metadata": {
        "id": "SX2oQyuphZbk"
      },
      "id": "SX2oQyuphZbk"
    },
    {
      "cell_type": "markdown",
      "source": [
        "### Redes Neurais Profundas"
      ],
      "metadata": {
        "id": "A0Ko1HPlhbty"
      },
      "id": "A0Ko1HPlhbty"
    },
    {
      "cell_type": "markdown",
      "source": [
        "### Desistência"
      ],
      "metadata": {
        "id": "tVOU-0ZXheco"
      },
      "id": "tVOU-0ZXheco"
    },
    {
      "cell_type": "markdown",
      "source": [
        "### Pesos e Inicialização da Rede Neural"
      ],
      "metadata": {
        "id": "ZYWmi7P4hf86"
      },
      "id": "ZYWmi7P4hf86"
    },
    {
      "cell_type": "markdown",
      "source": [
        "### Gradient Descent com Momentum"
      ],
      "metadata": {
        "id": "Pjii9g4qhh-u"
      },
      "id": "Pjii9g4qhh-u"
    },
    {
      "cell_type": "markdown",
      "source": [
        "### Normalização em Lote"
      ],
      "metadata": {
        "id": "h8olddwihjXd"
      },
      "id": "h8olddwihjXd"
    },
    {
      "cell_type": "markdown",
      "id": "9cd231f3",
      "metadata": {
        "id": "9cd231f3"
      },
      "source": [
        "## Semana 6"
      ]
    },
    {
      "cell_type": "markdown",
      "id": "0b1a92ea",
      "metadata": {
        "id": "0b1a92ea"
      },
      "source": [
        "### Convolução"
      ]
    },
    {
      "cell_type": "markdown",
      "id": "5704020a",
      "metadata": {
        "id": "5704020a"
      },
      "source": [
        "### Funções de Ativação e Max Polling"
      ]
    },
    {
      "cell_type": "markdown",
      "id": "a358cb5c",
      "metadata": {
        "id": "a358cb5c"
      },
      "source": [
        "### Vários Canais de Entrada e Saída"
      ]
    },
    {
      "cell_type": "markdown",
      "source": [],
      "metadata": {
        "id": "J8FhZKVchX9p"
      },
      "id": "J8FhZKVchX9p"
    },
    {
      "cell_type": "markdown",
      "id": "ed65ebd0",
      "metadata": {
        "id": "ed65ebd0"
      },
      "source": [
        "### Rede Neural Convolucional"
      ]
    },
    {
      "cell_type": "markdown",
      "id": "4f55c553",
      "metadata": {
        "id": "4f55c553"
      },
      "source": [
        "### Modelos de Visão de Lanterna"
      ]
    },
    {
      "cell_type": "markdown",
      "id": "12cc4f30",
      "metadata": {
        "id": "12cc4f30"
      },
      "source": [
        "## Modelos de Visão de Lanterna"
      ]
    }
  ],
  "metadata": {
    "kernelspec": {
      "display_name": "Python 3 (ipykernel)",
      "language": "python",
      "name": "python3"
    },
    "language_info": {
      "codemirror_mode": {
        "name": "ipython",
        "version": 3
      },
      "file_extension": ".py",
      "mimetype": "text/x-python",
      "name": "python",
      "nbconvert_exporter": "python",
      "pygments_lexer": "ipython3",
      "version": "3.10.12"
    },
    "toc": {
      "base_numbering": 1,
      "nav_menu": {},
      "number_sections": true,
      "sideBar": true,
      "skip_h1_title": false,
      "title_cell": "Table of Contents",
      "title_sidebar": "Contents",
      "toc_cell": false,
      "toc_position": {
        "height": "calc(100% - 180px)",
        "left": "10px",
        "top": "150px",
        "width": "319.238px"
      },
      "toc_section_display": true,
      "toc_window_display": true
    },
    "varInspector": {
      "cols": {
        "lenName": 16,
        "lenType": 16,
        "lenVar": 40
      },
      "kernels_config": {
        "python": {
          "delete_cmd_postfix": "",
          "delete_cmd_prefix": "del ",
          "library": "var_list.py",
          "varRefreshCmd": "print(var_dic_list())"
        },
        "r": {
          "delete_cmd_postfix": ") ",
          "delete_cmd_prefix": "rm(",
          "library": "var_list.r",
          "varRefreshCmd": "cat(var_dic_list()) "
        }
      },
      "types_to_exclude": [
        "module",
        "function",
        "builtin_function_or_method",
        "instance",
        "_Feature"
      ],
      "window_display": false
    },
    "colab": {
      "provenance": [],
      "toc_visible": true
    }
  },
  "nbformat": 4,
  "nbformat_minor": 5
}