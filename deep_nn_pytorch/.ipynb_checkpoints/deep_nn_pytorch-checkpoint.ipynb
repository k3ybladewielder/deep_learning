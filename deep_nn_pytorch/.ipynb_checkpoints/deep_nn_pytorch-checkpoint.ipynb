{
 "cells": [
  {
   "cell_type": "markdown",
   "id": "4e959aab",
   "metadata": {},
   "source": [
    "# Deep Neural Network com Pytorch"
   ]
  },
  {
   "cell_type": "markdown",
   "id": "3f1cf0b6",
   "metadata": {},
   "source": [
    "# Sumário\n",
    "## Semana 1\n",
    "### 1.1 [Tensores 1D](#tensores-1d)\n",
    "### 1.2 [Tensores Bidimensionais](#tensores-bidimensionais)\n",
    "### 1.3 [Derivativos no Pytorch](#derivativos-no-pytorch)\n",
    "### 1.4 [Conjunto de Dados Simples](#conjunto-de-dados-simples)\n",
    "### 1.5 [Conjunto de Dados](#conjunto-de-dados)\n",
    "\n",
    "## Semana 2\n",
    "### 2.1 [Regressão Linear em 1D](#regressão-linear-em-1d)\n",
    "### 2.2 [Treinamento de Regressão Linear](#treinamento-de-regressão-linear)\n",
    "### 2.3 [Gradiente Descendente e Custo](#gradiente-descendente-e-custo)\n",
    "### 2.4 [Pytorch Slope](#pytorch-slope)\n",
    "### 2.5 [Treinamento de Regressão Linear (repetição)](#treinamento-de-regressão-linear-repetição)\n",
    "### 2.6 [Gradiente Descendente Estocástico e o Carregador de Dados](#gradiente-descendente-estocástico-e-o-carregador-de-dados)\n",
    "### 2.7 [Mini-Batch Gradient Descent](#mini-batch-gradient-descent)\n",
    "### 2.8 [Otimização no Pytorch](#otimização-no-pytorch)\n",
    "### 2.9 [Treinamento, Validação e Divisão de Dados](#treinamento-validação-e-divisão-de-dados)\n",
    "\n",
    "## Semana 3\n",
    "### 3.1 [Regressão Linear Múltipla](#regressão-linear-múltipla)\n",
    "### 3.2 [Regressão Linear de Múltiplas Saídas](#regressão-linear-de-múltiplas-saídas)\n",
    "### 3.3 [Regressão Logística para Classificação](#regressão-logística-para-classificação)\n",
    "\n",
    "## Semana 4\n",
    "### 4.1 [Previsão Softmax](#previsão-softmax)\n",
    "### 4.2 [Função Softmax](#função-softmax)\n",
    "### 4.3 [Softmax Pytorch](#softmax-pytorch)\n",
    "### 4.4 [Redes Neurais Rasas](#redes-neurais-rasas)\n",
    "\n",
    "## Semana 5\n",
    "### 5.1 [Redes Neurais Profundas](#redes-neurais-profundas)\n",
    "### 5.2 [Desistência](#desistência)\n",
    "### 5.3 [Pesos e Inicialização da Rede Neural](#pesos-e-inicialização-da-rede-neural)\n",
    "### 5.4 [Gradient Descent com Momentum](#gradient-descent-com-momentum)\n",
    "### 5.5 [Normalização em Lote](#normalização-em-lote)\n",
    "\n",
    "## Semana 6\n",
    "### 6.1 [Convolução](#convolução)\n",
    "### 6.2 [Funções de Ativação e Max Polling](#funções-de-ativação-e-max-polling)\n",
    "### 6.3 [Vários Canais de Entrada e Saída](#vários-canais-de-entrada-e-saída)\n",
    "### 6.4 [Rede Neural Convolucional](#rede-neural-convolucional)\n",
    "### 6.5 [Modelos de Visão de Lanterna](#modelos-de-visão-de-lanterna)"
   ]
  },
  {
   "cell_type": "markdown",
   "id": "d5b75b48",
   "metadata": {},
   "source": [
    "## Semana 1"
   ]
  },
  {
   "cell_type": "markdown",
   "id": "3896b479",
   "metadata": {},
   "source": [
    "### Tensores 1D"
   ]
  },
  {
   "cell_type": "markdown",
   "id": "1099db48",
   "metadata": {},
   "source": [
    "### Tensores Bidimensionais"
   ]
  },
  {
   "cell_type": "markdown",
   "id": "83cd8734",
   "metadata": {},
   "source": [
    "### Derivativos no Pytorch"
   ]
  },
  {
   "cell_type": "markdown",
   "id": "1577bf91",
   "metadata": {},
   "source": [
    "### Conjutno de Dados Simples"
   ]
  },
  {
   "cell_type": "markdown",
   "id": "9e28c20f",
   "metadata": {},
   "source": [
    "### Conjunto de Dados"
   ]
  },
  {
   "cell_type": "markdown",
   "id": "2def1558",
   "metadata": {},
   "source": [
    "## Semana 2"
   ]
  },
  {
   "cell_type": "markdown",
   "id": "08ac4ec1",
   "metadata": {},
   "source": [
    "### Regressão Linear em 1D"
   ]
  },
  {
   "cell_type": "markdown",
   "id": "c9736be8",
   "metadata": {},
   "source": [
    "### Treinamento de Regressão Linear"
   ]
  },
  {
   "cell_type": "markdown",
   "id": "2422a0e0",
   "metadata": {},
   "source": [
    "### Gradiente Descendent e Custo"
   ]
  },
  {
   "cell_type": "markdown",
   "id": "cb8f2540",
   "metadata": {},
   "source": [
    "### Pytorch Slope"
   ]
  },
  {
   "cell_type": "markdown",
   "id": "0888679c",
   "metadata": {},
   "source": [
    "### Treinamento de Regressao Linear"
   ]
  },
  {
   "cell_type": "markdown",
   "id": "d9e44a74",
   "metadata": {},
   "source": [
    "### Gradiente Descendente Estocástico e o Carregador de Dados"
   ]
  },
  {
   "cell_type": "markdown",
   "id": "a88a98ad",
   "metadata": {},
   "source": [
    "### Mini-Batch Gradient Descent"
   ]
  },
  {
   "cell_type": "markdown",
   "id": "4984626d",
   "metadata": {},
   "source": [
    "### Otimização no Pytorch"
   ]
  },
  {
   "cell_type": "markdown",
   "id": "98a58c7d",
   "metadata": {},
   "source": [
    "### Treinamento, Validação e Divisão de Dados"
   ]
  },
  {
   "cell_type": "markdown",
   "id": "742ef067",
   "metadata": {},
   "source": []
  },
  {
   "cell_type": "markdown",
   "id": "7b142791",
   "metadata": {},
   "source": []
  },
  {
   "cell_type": "markdown",
   "id": "474b3f6d",
   "metadata": {},
   "source": []
  },
  {
   "cell_type": "markdown",
   "id": "c0cd0566",
   "metadata": {},
   "source": []
  },
  {
   "cell_type": "markdown",
   "id": "704abaa8",
   "metadata": {},
   "source": []
  },
  {
   "cell_type": "markdown",
   "id": "21e6c3e9",
   "metadata": {},
   "source": []
  },
  {
   "cell_type": "markdown",
   "id": "baeb5c7a",
   "metadata": {},
   "source": []
  },
  {
   "cell_type": "markdown",
   "id": "8ed0d503",
   "metadata": {},
   "source": []
  },
  {
   "cell_type": "markdown",
   "id": "2339e3e8",
   "metadata": {},
   "source": []
  },
  {
   "cell_type": "markdown",
   "id": "fee49774",
   "metadata": {},
   "source": []
  },
  {
   "cell_type": "markdown",
   "id": "e433d340",
   "metadata": {},
   "source": []
  },
  {
   "cell_type": "markdown",
   "id": "65b84ce4",
   "metadata": {},
   "source": []
  },
  {
   "cell_type": "markdown",
   "id": "8008dfb8",
   "metadata": {},
   "source": [
    "## Semana 3\n",
    "### Regressão Linear Multipla\n",
    "### Regressão Linear de Múltiplas Saídas\n",
    "### Regressão Logística para Classificação\n",
    "\n",
    "## Semana 4\n",
    "### Previsão Softmax\n",
    "### Função Softmax\n",
    "### Softmax Pytorch\n",
    "### Redes Neurais Rasas\n",
    "\n",
    "## Semana 5\n",
    "### Redes Neurais Profundas\n",
    "### Desistência\n",
    "### Pesos e Inicialização da Rede Neural\n",
    "### Gradient Descent com Momentum\n",
    "### Normalização em Lote"
   ]
  },
  {
   "cell_type": "markdown",
   "id": "9cd231f3",
   "metadata": {},
   "source": [
    "## Semana 6"
   ]
  },
  {
   "cell_type": "markdown",
   "id": "0b1a92ea",
   "metadata": {},
   "source": [
    "### Convolução"
   ]
  },
  {
   "cell_type": "markdown",
   "id": "5704020a",
   "metadata": {},
   "source": [
    "### Funções de Ativação e Max Polling"
   ]
  },
  {
   "cell_type": "markdown",
   "id": "a358cb5c",
   "metadata": {},
   "source": [
    "### Vários Canais de Entrada e Saída"
   ]
  },
  {
   "cell_type": "markdown",
   "id": "ed65ebd0",
   "metadata": {},
   "source": [
    "### Rede Neural Convolucional"
   ]
  },
  {
   "cell_type": "markdown",
   "id": "4f55c553",
   "metadata": {},
   "source": [
    "### Modelos de Visão de Lanterna"
   ]
  },
  {
   "cell_type": "markdown",
   "id": "12cc4f30",
   "metadata": {},
   "source": [
    "## Modelos de Visão de Lanterna"
   ]
  }
 ],
 "metadata": {
  "kernelspec": {
   "display_name": "Python 3 (ipykernel)",
   "language": "python",
   "name": "python3"
  },
  "language_info": {
   "codemirror_mode": {
    "name": "ipython",
    "version": 3
   },
   "file_extension": ".py",
   "mimetype": "text/x-python",
   "name": "python",
   "nbconvert_exporter": "python",
   "pygments_lexer": "ipython3",
   "version": "3.10.12"
  },
  "toc": {
   "base_numbering": 1,
   "nav_menu": {},
   "number_sections": true,
   "sideBar": true,
   "skip_h1_title": false,
   "title_cell": "Table of Contents",
   "title_sidebar": "Contents",
   "toc_cell": false,
   "toc_position": {
    "height": "calc(100% - 180px)",
    "left": "10px",
    "top": "150px",
    "width": "319.238px"
   },
   "toc_section_display": true,
   "toc_window_display": true
  },
  "varInspector": {
   "cols": {
    "lenName": 16,
    "lenType": 16,
    "lenVar": 40
   },
   "kernels_config": {
    "python": {
     "delete_cmd_postfix": "",
     "delete_cmd_prefix": "del ",
     "library": "var_list.py",
     "varRefreshCmd": "print(var_dic_list())"
    },
    "r": {
     "delete_cmd_postfix": ") ",
     "delete_cmd_prefix": "rm(",
     "library": "var_list.r",
     "varRefreshCmd": "cat(var_dic_list()) "
    }
   },
   "types_to_exclude": [
    "module",
    "function",
    "builtin_function_or_method",
    "instance",
    "_Feature"
   ],
   "window_display": false
  }
 },
 "nbformat": 4,
 "nbformat_minor": 5
}
